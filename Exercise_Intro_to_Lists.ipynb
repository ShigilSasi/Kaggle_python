{
  "metadata": {
    "kernelspec": {
      "display_name": "Python 3",
      "language": "python",
      "name": "python3"
    },
    "language_info": {
      "name": "python",
      "version": "3.10.13",
      "mimetype": "text/x-python",
      "codemirror_mode": {
        "name": "ipython",
        "version": 3
      },
      "pygments_lexer": "ipython3",
      "nbconvert_exporter": "python",
      "file_extension": ".py"
    },
    "kaggle": {
      "accelerator": "none",
      "dataSources": [],
      "isInternetEnabled": false,
      "language": "python",
      "sourceType": "notebook",
      "isGpuEnabled": false
    },
    "colab": {
      "name": "Exercise: Intro to Lists",
      "provenance": []
    }
  },
  "nbformat_minor": 0,
  "nbformat": 4,
  "cells": [
    {
      "cell_type": "markdown",
      "source": [
        "**This notebook is an exercise in the [Intro to Programming](https://www.kaggle.com/learn/intro-to-programming) course.  You can reference the tutorial at [this link](https://www.kaggle.com/alexisbcook/intro-to-lists).**\n",
        "\n",
        "---\n"
      ],
      "metadata": {
        "id": "nPeGrP1x1QZ6"
      }
    },
    {
      "cell_type": "markdown",
      "source": [
        "In the tutorial, you learned how to define and modify Python lists.  In this exercise, you will use your new knowledge to solve several problems.\n",
        "\n",
        "# Set up the notebook\n",
        "\n",
        "Run the next code cell without changes to set up the notebook."
      ],
      "metadata": {
        "id": "XteTFCth1QZ-"
      }
    },
    {
      "cell_type": "code",
      "source": [
        "from learntools.core import binder\n",
        "binder.bind(globals())\n",
        "from learntools.intro_to_programming.ex5 import *\n",
        "print('Setup complete.')"
      ],
      "metadata": {
        "execution": {
          "iopub.status.busy": "2024-05-22T10:07:51.185251Z",
          "iopub.execute_input": "2024-05-22T10:07:51.185683Z",
          "iopub.status.idle": "2024-05-22T10:07:52.48504Z",
          "shell.execute_reply.started": "2024-05-22T10:07:51.185649Z",
          "shell.execute_reply": "2024-05-22T10:07:52.483832Z"
        },
        "trusted": true,
        "id": "z9Y_hkWD1QZ-",
        "outputId": "4e4e175f-f9af-4016-81c0-ac136500c2fa"
      },
      "execution_count": null,
      "outputs": [
        {
          "name": "stdout",
          "text": "Setup complete.\n",
          "output_type": "stream"
        }
      ]
    },
    {
      "cell_type": "markdown",
      "source": [
        "# Question 1\n",
        "\n",
        "You own a restaurant with five food dishes, organized in the Python list `menu` below.  One day, you decide to:\n",
        "- remove bean soup (`'bean soup'`) from the menu, and\n",
        "- add roasted beet salad (`'roasted beet salad'`) to the menu.\n",
        "\n",
        "Implement this change to the list below.  While completing this task,\n",
        "- do not change the line that creates the `menu` list.  \n",
        "- your answer should use `.remove()` and `.append()`.  "
      ],
      "metadata": {
        "id": "-acP7bX71QaA"
      }
    },
    {
      "cell_type": "code",
      "source": [
        "# Do not change: Initial menu for your restaurant\n",
        "menu = ['stewed meat with onions', 'bean soup', 'risotto with trout and shrimp',\n",
        "       'fish soup with cream and onion', 'gyro']\n",
        "\n",
        "# TODO: remove 'bean soup', and add 'roasted beet salad' to the end of the menu\n",
        "menu.remove(\"bean soup\")\n",
        "menu.append(\"roasted beet salad\")\n",
        "# Do not change: Check your answer\n",
        "q1.check()"
      ],
      "metadata": {
        "execution": {
          "iopub.status.busy": "2024-05-22T10:09:30.958829Z",
          "iopub.execute_input": "2024-05-22T10:09:30.959208Z",
          "iopub.status.idle": "2024-05-22T10:09:30.970509Z",
          "shell.execute_reply.started": "2024-05-22T10:09:30.959178Z",
          "shell.execute_reply": "2024-05-22T10:09:30.969124Z"
        },
        "trusted": true,
        "id": "Uw8ext6S1QaA",
        "outputId": "c8b91b21-6b90-4a29-f552-2e33c8ca3f13"
      },
      "execution_count": null,
      "outputs": [
        {
          "output_type": "display_data",
          "data": {
            "text/plain": "<IPython.core.display.Javascript object>",
            "application/javascript": "parent.postMessage({\"jupyterEvent\": \"custom.exercise_interaction\", \"data\": {\"outcomeType\": 1, \"valueTowardsCompletion\": 0.2, \"interactionType\": 1, \"questionType\": 2, \"questionId\": \"1_FoodMenu\", \"learnToolsVersion\": \"0.3.4\", \"failureMessage\": \"\", \"exceptionClass\": \"\", \"trace\": \"\"}}, \"*\")"
          },
          "metadata": {}
        },
        {
          "output_type": "display_data",
          "data": {
            "text/plain": "Correct",
            "text/markdown": "<span style=\"color:#33cc33\">Correct</span>"
          },
          "metadata": {}
        }
      ]
    },
    {
      "cell_type": "code",
      "source": [
        "# Uncomment to see a hint\n",
        "#q1.hint()\n",
        "\n",
        "# Uncomment to see the solution\n",
        "#q1.solution()"
      ],
      "metadata": {
        "id": "dPQ_9_rW1QaB"
      },
      "execution_count": null,
      "outputs": []
    },
    {
      "cell_type": "markdown",
      "source": [
        "# Question 2\n",
        "\n",
        "The list `num_customers` contains the number of customers who came into your restaurant every day over the last month (which lasted thirty days).  Fill in values for each of the following:\n",
        "- `avg_first_seven` - average number of customers who visited in the first seven days\n",
        "- `avg_last_seven` - average number of customers who visited in the last seven days\n",
        "- `max_month` - number of customers on the day that got the most customers in the last month\n",
        "- `min_month` - number of customers on the day that got the least customers in the last month\n",
        "\n",
        "Answer this question by writing code.  For instance, if you have to find the minimum value in a list, use `min()` instead of scanning for the smallest value and directly filling in a number."
      ],
      "metadata": {
        "id": "OmoksYIP1QaB"
      }
    },
    {
      "cell_type": "code",
      "source": [
        "# Do not change: Number of customers each day for the last month\n",
        "num_customers = [137, 147, 135, 128, 170, 174, 165, 146, 126, 159,\n",
        "                 141, 148, 132, 147, 168, 153, 170, 161, 148, 152,\n",
        "                 141, 151, 131, 149, 164, 163, 143, 143, 166, 171]\n",
        "\n",
        "# TODO: Fill in values for the variables below\n",
        "avg_first_seven = sum(num_customers[:7])/7\n",
        "avg_last_seven =  sum(num_customers[-7:])/7\n",
        "max_month = max(num_customers)\n",
        "min_month = min(num_customers)\n",
        "\n",
        "# Do not change: Check your answer\n",
        "q2.check()"
      ],
      "metadata": {
        "execution": {
          "iopub.status.busy": "2024-05-22T10:12:50.437756Z",
          "iopub.execute_input": "2024-05-22T10:12:50.438185Z",
          "iopub.status.idle": "2024-05-22T10:12:50.449663Z",
          "shell.execute_reply.started": "2024-05-22T10:12:50.438152Z",
          "shell.execute_reply": "2024-05-22T10:12:50.447989Z"
        },
        "trusted": true,
        "id": "Ohtjj5h41QaB",
        "outputId": "458eb7af-16d4-4071-a5be-914f6cdc0c11"
      },
      "execution_count": null,
      "outputs": [
        {
          "output_type": "display_data",
          "data": {
            "text/plain": "<IPython.core.display.Javascript object>",
            "application/javascript": "parent.postMessage({\"jupyterEvent\": \"custom.exercise_interaction\", \"data\": {\"outcomeType\": 1, \"valueTowardsCompletion\": 0.2, \"interactionType\": 1, \"questionType\": 1, \"questionId\": \"2_NumCustomers\", \"learnToolsVersion\": \"0.3.4\", \"failureMessage\": \"\", \"exceptionClass\": \"\", \"trace\": \"\"}}, \"*\")"
          },
          "metadata": {}
        },
        {
          "output_type": "display_data",
          "data": {
            "text/plain": "Correct",
            "text/markdown": "<span style=\"color:#33cc33\">Correct</span>"
          },
          "metadata": {}
        }
      ]
    },
    {
      "cell_type": "code",
      "source": [
        "# Uncomment to see a hint\n",
        "#q2.hint()\n",
        "\n",
        "# Uncomment to see the solution\n",
        "q2.solution()"
      ],
      "metadata": {
        "execution": {
          "iopub.status.busy": "2024-05-22T10:12:20.846945Z",
          "iopub.execute_input": "2024-05-22T10:12:20.847342Z",
          "iopub.status.idle": "2024-05-22T10:12:20.857348Z",
          "shell.execute_reply.started": "2024-05-22T10:12:20.847308Z",
          "shell.execute_reply": "2024-05-22T10:12:20.856115Z"
        },
        "trusted": true,
        "id": "6bgS6uOC1QaB",
        "outputId": "29af4f0f-def6-4f79-fb7e-b2daf459df5c"
      },
      "execution_count": null,
      "outputs": [
        {
          "output_type": "display_data",
          "data": {
            "text/plain": "<IPython.core.display.Javascript object>",
            "application/javascript": "parent.postMessage({\"jupyterEvent\": \"custom.exercise_interaction\", \"data\": {\"interactionType\": 3, \"questionType\": 1, \"questionId\": \"2_NumCustomers\", \"learnToolsVersion\": \"0.3.4\", \"valueTowardsCompletion\": 0.0, \"failureMessage\": \"\", \"exceptionClass\": \"\", \"trace\": \"\", \"outcomeType\": 4}}, \"*\")"
          },
          "metadata": {}
        },
        {
          "output_type": "display_data",
          "data": {
            "text/plain": "Solution: \n```python\n# Fill in values for the variables below\navg_first_seven = sum(num_customers[:7])/7 \navg_last_seven = sum(num_customers[-7:])/7\nmax_month = max(num_customers)\nmin_month = min(num_customers)\n\n```",
            "text/markdown": "<span style=\"color:#33cc99\">Solution:</span> \n```python\n# Fill in values for the variables below\navg_first_seven = sum(num_customers[:7])/7 \navg_last_seven = sum(num_customers[-7:])/7\nmax_month = max(num_customers)\nmin_month = min(num_customers)\n\n```"
          },
          "metadata": {}
        }
      ]
    },
    {
      "cell_type": "markdown",
      "source": [
        "# Question 3\n",
        "\n",
        "In the tutorial, we gave an example of a Python string with information that was better as a list."
      ],
      "metadata": {
        "id": "fHaQ2XuJ1QaC"
      }
    },
    {
      "cell_type": "code",
      "source": [
        "flowers = \"pink primrose,hard-leaved pocket orchid,canterbury bells,sweet pea,english marigold,tiger lily,moon orchid,bird of paradise,monkshood,globe thistle\""
      ],
      "metadata": {
        "execution": {
          "iopub.status.busy": "2024-05-22T10:13:26.196869Z",
          "iopub.execute_input": "2024-05-22T10:13:26.197242Z",
          "iopub.status.idle": "2024-05-22T10:13:26.201692Z",
          "shell.execute_reply.started": "2024-05-22T10:13:26.197213Z",
          "shell.execute_reply": "2024-05-22T10:13:26.200784Z"
        },
        "trusted": true,
        "id": "3yrwt7RG1QaC"
      },
      "execution_count": null,
      "outputs": []
    },
    {
      "cell_type": "markdown",
      "source": [
        "You can actually use Python to quickly turn this string into a list with `.split()`.  In the parentheses, we need to provide the character should be used to mark the end of one list item and the beginning of another, and enclose it in quotation marks.  In this case, that character is a comma."
      ],
      "metadata": {
        "id": "yBsumhc51QaC"
      }
    },
    {
      "cell_type": "code",
      "source": [
        " print(flowers.split(\",\"))"
      ],
      "metadata": {
        "execution": {
          "iopub.status.busy": "2024-05-22T10:13:30.186722Z",
          "iopub.execute_input": "2024-05-22T10:13:30.187305Z",
          "iopub.status.idle": "2024-05-22T10:13:30.193218Z",
          "shell.execute_reply.started": "2024-05-22T10:13:30.187273Z",
          "shell.execute_reply": "2024-05-22T10:13:30.191911Z"
        },
        "trusted": true,
        "id": "HM0TMKgy1QaC",
        "outputId": "6aa483c8-9956-4c97-93f9-4da5ee158602"
      },
      "execution_count": null,
      "outputs": [
        {
          "name": "stdout",
          "text": "['pink primrose', 'hard-leaved pocket orchid', 'canterbury bells', 'sweet pea', 'english marigold', 'tiger lily', 'moon orchid', 'bird of paradise', 'monkshood', 'globe thistle']\n",
          "output_type": "stream"
        }
      ]
    },
    {
      "cell_type": "markdown",
      "source": [
        "Now it is your turn to try this out!  Create two Python lists:\n",
        "- `letters` should be a Python list where each entry is an uppercase letter of the English alphabet.  For instance, the first two entries should be `\"A\"` and `\"B\"`, and the final two entries should be `\"Y\"` and `\"Z\"`.  Use the string `alphabet` to create this list.\n",
        "- `address` should be a Python list where each row in `address` is a different item in the list.  Currently, each row in `address` is separated by a comma."
      ],
      "metadata": {
        "id": "0-eKXTOS1QaC"
      }
    },
    {
      "cell_type": "code",
      "source": [
        "# DO not change: Define two Python strings\n",
        "alphabet = \"A.B.C.D.E.F.G.H.I.J.K.L.M.N.O.P.Q.R.S.T.U.V.W.X.Y.Z\"\n",
        "address = \"Mr. H. Potter,The cupboard under the Stairs,4 Privet Drive,Little Whinging,Surrey\"\n",
        "\n",
        "# TODO: Convert strings into Python lists\n",
        "letters = alphabet.split(\".\")\n",
        "formatted_address = address.split(\",\")\n",
        "\n",
        "# Do not change: Check your answer\n",
        "q3.check()"
      ],
      "metadata": {
        "execution": {
          "iopub.status.busy": "2024-05-22T10:15:22.75577Z",
          "iopub.execute_input": "2024-05-22T10:15:22.756182Z",
          "iopub.status.idle": "2024-05-22T10:15:22.766946Z",
          "shell.execute_reply.started": "2024-05-22T10:15:22.756148Z",
          "shell.execute_reply": "2024-05-22T10:15:22.765526Z"
        },
        "trusted": true,
        "id": "KbG0wBLy1QaD",
        "outputId": "c0b5d8c9-6ad4-44ea-c7c4-4acec193d887"
      },
      "execution_count": null,
      "outputs": [
        {
          "output_type": "display_data",
          "data": {
            "text/plain": "<IPython.core.display.Javascript object>",
            "application/javascript": "parent.postMessage({\"jupyterEvent\": \"custom.exercise_interaction\", \"data\": {\"outcomeType\": 1, \"valueTowardsCompletion\": 0.2, \"interactionType\": 1, \"questionType\": 1, \"questionId\": \"3_SplitString\", \"learnToolsVersion\": \"0.3.4\", \"failureMessage\": \"\", \"exceptionClass\": \"\", \"trace\": \"\"}}, \"*\")"
          },
          "metadata": {}
        },
        {
          "output_type": "display_data",
          "data": {
            "text/plain": "Correct",
            "text/markdown": "<span style=\"color:#33cc33\">Correct</span>"
          },
          "metadata": {}
        }
      ]
    },
    {
      "cell_type": "code",
      "source": [
        "# Uncomment to see a hint\n",
        "#q3.hint()\n",
        "\n",
        "# Uncomment to see the solution\n",
        "#q3.solution()"
      ],
      "metadata": {
        "id": "FM0DZDBj1QaD"
      },
      "execution_count": null,
      "outputs": []
    },
    {
      "cell_type": "markdown",
      "source": [
        "# Question 4\n",
        "\n",
        "In the Python course, you'll learn all about **list comprehensions**, which allow you to create a list based on the values in another list.  In this question, you'll get a brief preview of how they work.\n",
        "\n",
        "Say we're working with the list below."
      ],
      "metadata": {
        "id": "bzcyBLZm1QaD"
      }
    },
    {
      "cell_type": "code",
      "source": [
        "test_ratings = [1, 2, 3, 4, 5]"
      ],
      "metadata": {
        "execution": {
          "iopub.status.busy": "2024-05-22T10:16:17.387649Z",
          "iopub.execute_input": "2024-05-22T10:16:17.388085Z",
          "iopub.status.idle": "2024-05-22T10:16:17.393949Z",
          "shell.execute_reply.started": "2024-05-22T10:16:17.388051Z",
          "shell.execute_reply": "2024-05-22T10:16:17.392684Z"
        },
        "trusted": true,
        "id": "o1SQUi0d1QaD"
      },
      "execution_count": null,
      "outputs": []
    },
    {
      "cell_type": "markdown",
      "source": [
        "Then we can use this list (`test_ratings`) to create a new list (`test_liked`) where each item has been turned into a boolean, depending on whether or not the item is greater than or equal to four."
      ],
      "metadata": {
        "id": "QR1JVtAR1QaD"
      }
    },
    {
      "cell_type": "code",
      "source": [
        "test_liked = [i>=4 for i in test_ratings]\n",
        "print(test_liked)"
      ],
      "metadata": {
        "execution": {
          "iopub.status.busy": "2024-05-22T10:16:20.884562Z",
          "iopub.execute_input": "2024-05-22T10:16:20.88496Z",
          "iopub.status.idle": "2024-05-22T10:16:20.890818Z",
          "shell.execute_reply.started": "2024-05-22T10:16:20.884929Z",
          "shell.execute_reply": "2024-05-22T10:16:20.889656Z"
        },
        "trusted": true,
        "id": "L_xXJQ2i1QaD",
        "outputId": "86a0fd71-22bc-4333-ee66-a1751d43281e"
      },
      "execution_count": null,
      "outputs": [
        {
          "name": "stdout",
          "text": "[False, False, False, True, True]\n",
          "output_type": "stream"
        }
      ]
    },
    {
      "cell_type": "markdown",
      "source": [
        "In this question, you'll use this list comprehension to define a function `percentage_liked()` that takes one argument as input:\n",
        "- `ratings`: list of ratings that people gave to a movie, where each rating is a number between 1-5, inclusive\n",
        "\n",
        "We say someone liked the movie, if they gave a rating of either 4 or 5.  Your function should return the percentage of people who liked the movie.\n",
        "\n",
        "For instance, if we supply a value of `[1, 2, 3, 4, 5, 4, 5, 1]`, then 50% (4/8) of the people liked the movie, and the function should return `0.5`.\n",
        "\n",
        "Part of the function has already been completed for you.  You need only use `list_liked` to calculate `percentage_liked`."
      ],
      "metadata": {
        "id": "b4CbEAGT1QaD"
      }
    },
    {
      "cell_type": "code",
      "source": [
        "\n",
        "def percentage_liked(ratings):\n",
        "    list_liked = [i>=4 for i in ratings]\n",
        "    # TODO: Complete the function\n",
        "    percentage_liked = sum(list_liked)/len(list_liked)\n",
        "    return percentage_liked\n",
        "\n",
        "# Do not change: should return 0.5\n",
        "percentage_liked([1, 2, 3, 4, 5, 4, 5, 1])\n",
        "\n",
        "# Do not change: Check your answer\n",
        "q4.check()"
      ],
      "metadata": {
        "execution": {
          "iopub.status.busy": "2024-05-22T10:20:01.139865Z",
          "iopub.execute_input": "2024-05-22T10:20:01.140329Z",
          "iopub.status.idle": "2024-05-22T10:20:01.154983Z",
          "shell.execute_reply.started": "2024-05-22T10:20:01.140295Z",
          "shell.execute_reply": "2024-05-22T10:20:01.153726Z"
        },
        "trusted": true,
        "id": "h5v9oVYk1QaE",
        "outputId": "cfcef398-45cd-407c-a329-be6bc092003d"
      },
      "execution_count": null,
      "outputs": [
        {
          "output_type": "display_data",
          "data": {
            "text/plain": "<IPython.core.display.Javascript object>",
            "application/javascript": "parent.postMessage({\"jupyterEvent\": \"custom.exercise_interaction\", \"data\": {\"outcomeType\": 1, \"valueTowardsCompletion\": 0.2, \"interactionType\": 1, \"questionType\": 2, \"questionId\": \"4_PercentageLiked\", \"learnToolsVersion\": \"0.3.4\", \"failureMessage\": \"\", \"exceptionClass\": \"\", \"trace\": \"\"}}, \"*\")"
          },
          "metadata": {}
        },
        {
          "output_type": "display_data",
          "data": {
            "text/plain": "Correct",
            "text/markdown": "<span style=\"color:#33cc33\">Correct</span>"
          },
          "metadata": {}
        }
      ]
    },
    {
      "cell_type": "code",
      "source": [
        "# Uncomment to see a hint\n",
        "q4.hint()\n",
        "\n",
        "# Uncomment to see the solution\n",
        "q4.solution()"
      ],
      "metadata": {
        "execution": {
          "iopub.status.busy": "2024-05-22T10:19:33.539091Z",
          "iopub.execute_input": "2024-05-22T10:19:33.539528Z",
          "iopub.status.idle": "2024-05-22T10:19:33.553994Z",
          "shell.execute_reply.started": "2024-05-22T10:19:33.539496Z",
          "shell.execute_reply": "2024-05-22T10:19:33.552572Z"
        },
        "trusted": true,
        "id": "_zTQb6241QaE",
        "outputId": "a4e5633b-1c80-464c-ac59-e84e9fd867a9"
      },
      "execution_count": null,
      "outputs": [
        {
          "output_type": "display_data",
          "data": {
            "text/plain": "<IPython.core.display.Javascript object>",
            "application/javascript": "parent.postMessage({\"jupyterEvent\": \"custom.exercise_interaction\", \"data\": {\"interactionType\": 2, \"questionType\": 2, \"questionId\": \"4_PercentageLiked\", \"learnToolsVersion\": \"0.3.4\", \"valueTowardsCompletion\": 0.0, \"failureMessage\": \"\", \"exceptionClass\": \"\", \"trace\": \"\", \"outcomeType\": 4}}, \"*\")"
          },
          "metadata": {}
        },
        {
          "output_type": "display_data",
          "data": {
            "text/plain": "Hint: Remember that when we add booleans, it returns the total number of entries in the sum that are `True`.",
            "text/markdown": "<span style=\"color:#3366cc\">Hint:</span> Remember that when we add booleans, it returns the total number of entries in the sum that are `True`."
          },
          "metadata": {}
        },
        {
          "output_type": "display_data",
          "data": {
            "text/plain": "<IPython.core.display.Javascript object>",
            "application/javascript": "parent.postMessage({\"jupyterEvent\": \"custom.exercise_interaction\", \"data\": {\"interactionType\": 3, \"questionType\": 2, \"questionId\": \"4_PercentageLiked\", \"learnToolsVersion\": \"0.3.4\", \"valueTowardsCompletion\": 0.0, \"failureMessage\": \"\", \"exceptionClass\": \"\", \"trace\": \"\", \"outcomeType\": 4}}, \"*\")"
          },
          "metadata": {}
        },
        {
          "output_type": "display_data",
          "data": {
            "text/plain": "Solution: \n```python\n\n# Complete the function\ndef percentage_liked(ratings):\n    list_liked = [i >= 4 for i in ratings]\n    percentage_liked = sum(list_liked)/len(list_liked)\n    return percentage_liked\n\n```",
            "text/markdown": "<span style=\"color:#33cc99\">Solution:</span> \n```python\n\n# Complete the function\ndef percentage_liked(ratings):\n    list_liked = [i >= 4 for i in ratings]\n    percentage_liked = sum(list_liked)/len(list_liked)\n    return percentage_liked\n\n```"
          },
          "metadata": {}
        }
      ]
    },
    {
      "cell_type": "markdown",
      "source": [
        "# 🌶️ Question 5\n",
        "\n",
        "Say you're doing analytics for a website.  You need to write a function that returns the percentage growth in the total number of users relative to a specified number of years ago.\n",
        "\n",
        "Your function `percentage_growth()` should take two arguments as input:\n",
        "- `num_users` = Python list with the total number of users each year.  So `num_users[0]` is the total number of users in the first year, `num_users[1]` is the total number of users in the second year, and so on.  The final entry in the list gives the total number of users in the most recently completed year.\n",
        "- `yrs_ago` = number of years to go back in time when calculating the growth percentage\n",
        "\n",
        "For instance, say `num_users = [920344, 1043553, 1204334, 1458996, 1503323, 1593432, 1623463, 1843064, 1930992, 2001078]`.\n",
        "- if `yrs_ago = 1`, we want the function to return a value of about `0.036`. This corresponds to a percentage growth of approximately 3.6%, calculated as (2001078 - 1930992)/1930992.\n",
        "- if `years_ago = 7`, we would want to return approximately `0.66`.  This corresponds to a percentage growth of approximately 66%, calculated as (2001078 - 1204334)/1204334.\n",
        "\n",
        "Your coworker sent you a draft of a function, but it doesn't seem to be doing the correct calculation.  Can you figure out what has gone wrong and make the needed changes?"
      ],
      "metadata": {
        "id": "CvX2JuuA1QaE"
      }
    },
    {
      "cell_type": "code",
      "source": [
        "# TODO: Edit the function\n",
        "def percentage_growth(num_users, yrs_ago):\n",
        "    growth = (num_users[len(num_users)-1] - num_users[len(num_users)-yrs_ago-1])/num_users[len(num_users)-yrs_ago-1]\n",
        "    return growth\n",
        "\n",
        "# Do not change: Variable for calculating some test examples\n",
        "num_users_test = [920344, 1043553, 1204334, 1458996, 1503323, 1593432, 1623463, 1843064, 1930992, 2001078]\n",
        "\n",
        "# Do not change: Should return .036\n",
        "print(percentage_growth(num_users_test, 1))\n",
        "\n",
        "# Do not change: Should return 0.66\n",
        "print(percentage_growth(num_users_test, 7))\n",
        "\n",
        "# Do not change: Check your answer\n",
        "q5.check()"
      ],
      "metadata": {
        "execution": {
          "iopub.status.busy": "2024-05-22T10:24:36.861566Z",
          "iopub.execute_input": "2024-05-22T10:24:36.861957Z",
          "iopub.status.idle": "2024-05-22T10:24:36.872325Z",
          "shell.execute_reply.started": "2024-05-22T10:24:36.861925Z",
          "shell.execute_reply": "2024-05-22T10:24:36.871472Z"
        },
        "trusted": true,
        "id": "0hvht8rL1QaE",
        "outputId": "65af40a9-0722-4e80-ec2e-b0f2dd2a2eef"
      },
      "execution_count": null,
      "outputs": [
        {
          "name": "stdout",
          "text": "0.03629533421163837\n0.6615639847417742\n",
          "output_type": "stream"
        },
        {
          "output_type": "display_data",
          "data": {
            "text/plain": "<IPython.core.display.Javascript object>",
            "application/javascript": "parent.postMessage({\"jupyterEvent\": \"custom.exercise_interaction\", \"data\": {\"outcomeType\": 1, \"valueTowardsCompletion\": 0.2, \"interactionType\": 1, \"questionType\": 2, \"questionId\": \"5_WebsiteAnalytics\", \"learnToolsVersion\": \"0.3.4\", \"failureMessage\": \"\", \"exceptionClass\": \"\", \"trace\": \"\"}}, \"*\")"
          },
          "metadata": {}
        },
        {
          "output_type": "display_data",
          "data": {
            "text/plain": "Correct",
            "text/markdown": "<span style=\"color:#33cc33\">Correct</span>"
          },
          "metadata": {}
        }
      ]
    },
    {
      "cell_type": "code",
      "source": [
        "# Uncomment to see a hint\n",
        "q5.hint()\n",
        "\n",
        "# Uncomment to see the solution\n",
        "q5.solution()"
      ],
      "metadata": {
        "execution": {
          "iopub.status.busy": "2024-05-22T10:23:23.331898Z",
          "iopub.execute_input": "2024-05-22T10:23:23.332323Z",
          "iopub.status.idle": "2024-05-22T10:23:23.34636Z",
          "shell.execute_reply.started": "2024-05-22T10:23:23.332291Z",
          "shell.execute_reply": "2024-05-22T10:23:23.345152Z"
        },
        "trusted": true,
        "id": "gzaEuBN61QaE",
        "outputId": "fe9c80cd-c0d8-4662-c0bf-e3fdc074a6cd"
      },
      "execution_count": null,
      "outputs": [
        {
          "output_type": "display_data",
          "data": {
            "text/plain": "<IPython.core.display.Javascript object>",
            "application/javascript": "parent.postMessage({\"jupyterEvent\": \"custom.exercise_interaction\", \"data\": {\"interactionType\": 2, \"questionType\": 2, \"questionId\": \"5_WebsiteAnalytics\", \"learnToolsVersion\": \"0.3.4\", \"valueTowardsCompletion\": 0.0, \"failureMessage\": \"\", \"exceptionClass\": \"\", \"trace\": \"\", \"outcomeType\": 4}}, \"*\")"
          },
          "metadata": {}
        },
        {
          "output_type": "display_data",
          "data": {
            "text/plain": "Hint: It's already correct that you need to subtract two numbers from the list, before dividing by an item in the list. You only need to modify the positions for the items that are pulled from the list. \n\nIn order to pull the final entry in the `num_users` list, you would need to use `num_users[len(num_users)-1]`.  This corresponds to the number of users in the most recently completed year.  \n\nThen, to get the number of users from one year prior, you should use `num_users[len(num_users)-2]`.  \n\nTo get the number of users from `yrs_ago` years ago, use `num_users[len(num_users)-yrs_ago-1]`.",
            "text/markdown": "<span style=\"color:#3366cc\">Hint:</span> It's already correct that you need to subtract two numbers from the list, before dividing by an item in the list. You only need to modify the positions for the items that are pulled from the list. \n\nIn order to pull the final entry in the `num_users` list, you would need to use `num_users[len(num_users)-1]`.  This corresponds to the number of users in the most recently completed year.  \n\nThen, to get the number of users from one year prior, you should use `num_users[len(num_users)-2]`.  \n\nTo get the number of users from `yrs_ago` years ago, use `num_users[len(num_users)-yrs_ago-1]`."
          },
          "metadata": {}
        },
        {
          "output_type": "display_data",
          "data": {
            "text/plain": "<IPython.core.display.Javascript object>",
            "application/javascript": "parent.postMessage({\"jupyterEvent\": \"custom.exercise_interaction\", \"data\": {\"interactionType\": 3, \"questionType\": 2, \"questionId\": \"5_WebsiteAnalytics\", \"learnToolsVersion\": \"0.3.4\", \"valueTowardsCompletion\": 0.0, \"failureMessage\": \"\", \"exceptionClass\": \"\", \"trace\": \"\", \"outcomeType\": 4}}, \"*\")"
          },
          "metadata": {}
        },
        {
          "output_type": "display_data",
          "data": {
            "text/plain": "Solution: \n```python\ndef percentage_growth(num_users, yrs_ago):\n    growth = (num_users[len(num_users)-1] - num_users[len(num_users)-yrs_ago-1])/num_users[len(num_users)-yrs_ago-1]\n    return growth\n\n```",
            "text/markdown": "<span style=\"color:#33cc99\">Solution:</span> \n```python\ndef percentage_growth(num_users, yrs_ago):\n    growth = (num_users[len(num_users)-1] - num_users[len(num_users)-yrs_ago-1])/num_users[len(num_users)-yrs_ago-1]\n    return growth\n\n```"
          },
          "metadata": {}
        }
      ]
    },
    {
      "cell_type": "markdown",
      "source": [
        "# Congratulations!\n",
        "\n",
        "Congratulations for finishing the Intro to Programming course!  You should be proud of your very first steps with learning programming.  As next steps, we recommend taking:\n",
        "- the **[Python course](http://www.kaggle.com/learn/python)**, and\n",
        "- the **[Intro to Machine Learning course](https://www.kaggle.com/learn/intro-to-machine-learning)**."
      ],
      "metadata": {
        "id": "Mpv9LpAo1QaF"
      }
    },
    {
      "cell_type": "markdown",
      "source": [
        "---\n",
        "\n",
        "\n",
        "\n",
        "\n",
        "*Have questions or comments? Visit the [course discussion forum](https://www.kaggle.com/learn/intro-to-programming/discussion) to chat with other learners.*"
      ],
      "metadata": {
        "id": "g31mjam81QaF"
      }
    }
  ]
}