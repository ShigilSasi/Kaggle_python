{
  "metadata": {
    "kernelspec": {
      "language": "python",
      "display_name": "Python 3",
      "name": "python3"
    },
    "language_info": {
      "name": "python",
      "version": "3.10.13",
      "mimetype": "text/x-python",
      "codemirror_mode": {
        "name": "ipython",
        "version": 3
      },
      "pygments_lexer": "ipython3",
      "nbconvert_exporter": "python",
      "file_extension": ".py"
    },
    "kaggle": {
      "accelerator": "none",
      "dataSources": [],
      "isInternetEnabled": false,
      "language": "python",
      "sourceType": "notebook",
      "isGpuEnabled": false
    },
    "colab": {
      "name": "Exercise: Conditions and Conditional Statements",
      "provenance": []
    }
  },
  "nbformat_minor": 0,
  "nbformat": 4,
  "cells": [
    {
      "cell_type": "markdown",
      "source": [
        "**This notebook is an exercise in the [Intro to Programming](https://www.kaggle.com/learn/intro-to-programming) course.  You can reference the tutorial at [this link](https://www.kaggle.com/alexisbcook/conditions-and-conditional-statements).**\n",
        "\n",
        "---\n"
      ],
      "metadata": {
        "id": "SRa7DnXzJWIl"
      }
    },
    {
      "cell_type": "markdown",
      "source": [
        "In the tutorial, you learned about conditions and conditional statements. In this exercise, you will use what you learned to answer several questions.\n",
        "\n",
        "# Set up the notebook\n",
        "\n",
        "Run the next code cell without changes to set up the notebook."
      ],
      "metadata": {
        "id": "nv4a5-9rJWIp"
      }
    },
    {
      "cell_type": "code",
      "source": [
        "from learntools.core import binder\n",
        "binder.bind(globals())\n",
        "from learntools.intro_to_programming.ex4 import *\n",
        "print('Setup complete.')"
      ],
      "metadata": {
        "execution": {
          "iopub.status.busy": "2024-05-22T06:36:18.60438Z",
          "iopub.execute_input": "2024-05-22T06:36:18.604816Z",
          "iopub.status.idle": "2024-05-22T06:36:20.24155Z",
          "shell.execute_reply.started": "2024-05-22T06:36:18.604781Z",
          "shell.execute_reply": "2024-05-22T06:36:20.240185Z"
        },
        "trusted": true,
        "id": "fDey0BvXJWIr",
        "outputId": "b92a8b50-e6d3-4dd1-eccf-9ec32f771b62"
      },
      "execution_count": null,
      "outputs": [
        {
          "name": "stdout",
          "text": "Setup complete.\n",
          "output_type": "stream"
        }
      ]
    },
    {
      "cell_type": "markdown",
      "source": [
        "# Question 1\n",
        "\n",
        "You work at a college admissions office.  When inspecting a dataset of college applicants, you notice that some students have represented their grades with letters (`\"A\"`, `\"B\"`, `\"C\"`, `\"D\"`, `\"F\"`), whereas others have represented their grades with a number between 0 and 100.\n",
        "\n",
        "You realize that for consistency, all of the grades should be formatted in the same way, and you decide to format them all as letters.  For the conversion, you decide to assign:\n",
        "- `\"A\"` - any grade 90-100, inclusive\n",
        "- `\"B\"` - any grade 80-89, inclusive\n",
        "- `\"C\"` - any grade 70-79, inclusive\n",
        "- `\"D\"` - any grade 60-69, inclusive\n",
        "- `\"F\"` - any grade <60\n",
        "\n",
        "Write a function `get_grade()` that takes as input:\n",
        "- `score` - an integer 0-100 corresponding to a numerical grade\n",
        "\n",
        "It should return a Python string with the letter grade that it corresponds to.  For instance,\n",
        "- A score of 85 corresponds to a B grade.  In other words, `get_grade(85)` should return `\"B\"`.\n",
        "- A score of 49 corresponds to an F grade.  In other words, `get_grade(49)` should return `\"F\"`.\n",
        "\n",
        "Make sure that when supplying the grade that is returned by the function, it is enclosed in quotes.  (For instance, if you want to return `\"A\"`, you should write `return \"A\"` and not `return A`.)"
      ],
      "metadata": {
        "id": "t8NOeYLXJWIt"
      }
    },
    {
      "cell_type": "code",
      "source": [
        "# TODO: Edit the function to return the correct grade for different scores\n",
        "def get_grade(score):\n",
        "    if score >= 90:\n",
        "        grade = \"A\"\n",
        "    elif score >= 80:\n",
        "        grade = \"B\"\n",
        "    elif score >= 70:\n",
        "        grade = \"C\"\n",
        "    elif score >= 60:\n",
        "        grade = \"D\"\n",
        "    else:\n",
        "        grade = \"F\"\n",
        "    return grade\n",
        "\n",
        "# Check your answer\n",
        "q1.check()"
      ],
      "metadata": {
        "execution": {
          "iopub.status.busy": "2024-05-22T06:40:40.900476Z",
          "iopub.execute_input": "2024-05-22T06:40:40.900921Z",
          "iopub.status.idle": "2024-05-22T06:40:40.913149Z",
          "shell.execute_reply.started": "2024-05-22T06:40:40.900888Z",
          "shell.execute_reply": "2024-05-22T06:40:40.911696Z"
        },
        "trusted": true,
        "id": "bTdd54SVJWIu",
        "outputId": "01bd623f-dfbf-4ed8-b751-7e79cf86c54b"
      },
      "execution_count": null,
      "outputs": [
        {
          "output_type": "display_data",
          "data": {
            "text/plain": "<IPython.core.display.Javascript object>",
            "application/javascript": "parent.postMessage({\"jupyterEvent\": \"custom.exercise_interaction\", \"data\": {\"outcomeType\": 1, \"valueTowardsCompletion\": 0.2, \"interactionType\": 1, \"questionType\": 2, \"questionId\": \"1_GetGrade\", \"learnToolsVersion\": \"0.3.4\", \"failureMessage\": \"\", \"exceptionClass\": \"\", \"trace\": \"\"}}, \"*\")"
          },
          "metadata": {}
        },
        {
          "output_type": "display_data",
          "data": {
            "text/plain": "Correct",
            "text/markdown": "<span style=\"color:#33cc33\">Correct</span>"
          },
          "metadata": {}
        }
      ]
    },
    {
      "cell_type": "code",
      "source": [
        "# Uncomment to see a hint\n",
        "q1.hint()\n",
        "\n",
        "# Uncomment to see the solution\n",
        "#q1.solution()"
      ],
      "metadata": {
        "execution": {
          "iopub.status.busy": "2024-05-22T06:37:53.917277Z",
          "iopub.execute_input": "2024-05-22T06:37:53.917893Z",
          "iopub.status.idle": "2024-05-22T06:37:53.929912Z",
          "shell.execute_reply.started": "2024-05-22T06:37:53.917861Z",
          "shell.execute_reply": "2024-05-22T06:37:53.928556Z"
        },
        "trusted": true,
        "id": "FUDnm87cJWIv",
        "outputId": "0ad11b7f-9738-4aa0-ab0c-256a592acd33"
      },
      "execution_count": null,
      "outputs": [
        {
          "output_type": "display_data",
          "data": {
            "text/plain": "<IPython.core.display.Javascript object>",
            "application/javascript": "parent.postMessage({\"jupyterEvent\": \"custom.exercise_interaction\", \"data\": {\"interactionType\": 2, \"questionType\": 2, \"questionId\": \"1_GetGrade\", \"learnToolsVersion\": \"0.3.4\", \"valueTowardsCompletion\": 0.0, \"failureMessage\": \"\", \"exceptionClass\": \"\", \"trace\": \"\", \"outcomeType\": 4}}, \"*\")"
          },
          "metadata": {}
        },
        {
          "output_type": "display_data",
          "data": {
            "text/plain": "Hint: `\"A\"` should only be returned if `score >= 90`.  Otherwise, if the score is between 80 and 89 (inclusive), or 70 and 79 (inclusive), 60 and 69 (inclusive), or less than 60, a different score should be returned.  Make sure that your function always returns one of: `\"A\"`, `\"B\"`, `\"C\"`, `\"D\"`, or `\"F\"`.",
            "text/markdown": "<span style=\"color:#3366cc\">Hint:</span> `\"A\"` should only be returned if `score >= 90`.  Otherwise, if the score is between 80 and 89 (inclusive), or 70 and 79 (inclusive), 60 and 69 (inclusive), or less than 60, a different score should be returned.  Make sure that your function always returns one of: `\"A\"`, `\"B\"`, `\"C\"`, `\"D\"`, or `\"F\"`."
          },
          "metadata": {}
        }
      ]
    },
    {
      "cell_type": "markdown",
      "source": [
        "# Question 2\n",
        "\n",
        "In the exercise for the previous lesson, you wrote a function `cost_of_project()` that estimated the price of rings for an online shop that sells rings with custom engravings.  This function did not use conditional statements.  In this exercise, you will rewrite the function to use conditional statements.  Recall that the online shop has the following price structure:\n",
        "- Gold plated rings have a base cost of \\\\$50, and you charge \\\\$7 per engraved unit.  \n",
        "- Solid gold rings have a base cost of \\\\$100, and you charge \\\\$10 per engraved unit.\n",
        "- Spaces and punctuation are counted as engraved units.\n",
        "\n",
        "Your function `cost_of_project()` takes two arguments:\n",
        "- `engraving` - a Python string with the text of the engraving\n",
        "- `solid_gold` - a Boolean that indicates whether the ring is solid gold\n",
        "\n",
        "It should return the cost of the project.  \n",
        "\n",
        "The function has been partially completed for you, and you need to fill in the blanks to complete the function."
      ],
      "metadata": {
        "id": "6dQRywwHJWIv"
      }
    },
    {
      "cell_type": "code",
      "source": [
        "def cost_of_project(engraving, solid_gold):\n",
        "    if solid_gold == True:\n",
        "        cost = 100+10*len(engraving)\n",
        "    else:\n",
        "        cost = 50+7*len(engraving)\n",
        "    return cost\n",
        "\n",
        "# Check your answer\n",
        "q2.check()"
      ],
      "metadata": {
        "execution": {
          "iopub.status.busy": "2024-05-22T06:52:38.008623Z",
          "iopub.execute_input": "2024-05-22T06:52:38.009935Z",
          "iopub.status.idle": "2024-05-22T06:52:38.022334Z",
          "shell.execute_reply.started": "2024-05-22T06:52:38.009882Z",
          "shell.execute_reply": "2024-05-22T06:52:38.020562Z"
        },
        "trusted": true,
        "id": "w1lsAPJDJWIw",
        "outputId": "97d15983-57ad-4eb3-8320-d605b2cf3875"
      },
      "execution_count": null,
      "outputs": [
        {
          "output_type": "display_data",
          "data": {
            "text/plain": "<IPython.core.display.Javascript object>",
            "application/javascript": "parent.postMessage({\"jupyterEvent\": \"custom.exercise_interaction\", \"data\": {\"outcomeType\": 1, \"valueTowardsCompletion\": 0.2, \"interactionType\": 1, \"questionType\": 2, \"questionId\": \"2_CostProjectPartDeux\", \"learnToolsVersion\": \"0.3.4\", \"failureMessage\": \"\", \"exceptionClass\": \"\", \"trace\": \"\"}}, \"*\")"
          },
          "metadata": {}
        },
        {
          "output_type": "display_data",
          "data": {
            "text/plain": "Correct",
            "text/markdown": "<span style=\"color:#33cc33\">Correct</span>"
          },
          "metadata": {}
        }
      ]
    },
    {
      "cell_type": "code",
      "source": [
        "# Uncomment to see a hint\n",
        "q2.hint()\n",
        "\n",
        "# Uncomment to see the solution\n",
        "q2.solution()"
      ],
      "metadata": {
        "execution": {
          "iopub.status.busy": "2024-05-22T06:51:20.244257Z",
          "iopub.execute_input": "2024-05-22T06:51:20.244737Z",
          "iopub.status.idle": "2024-05-22T06:51:20.258765Z",
          "shell.execute_reply.started": "2024-05-22T06:51:20.244698Z",
          "shell.execute_reply": "2024-05-22T06:51:20.257797Z"
        },
        "trusted": true,
        "id": "i39MfSPZJWIx",
        "outputId": "e0774d33-c412-40e8-9992-4f53303b92c7"
      },
      "execution_count": null,
      "outputs": [
        {
          "output_type": "display_data",
          "data": {
            "text/plain": "<IPython.core.display.Javascript object>",
            "application/javascript": "parent.postMessage({\"jupyterEvent\": \"custom.exercise_interaction\", \"data\": {\"interactionType\": 2, \"questionType\": 2, \"questionId\": \"2_CostProjectPartDeux\", \"learnToolsVersion\": \"0.3.4\", \"valueTowardsCompletion\": 0.0, \"failureMessage\": \"\", \"exceptionClass\": \"\", \"trace\": \"\", \"outcomeType\": 4}}, \"*\")"
          },
          "metadata": {}
        },
        {
          "output_type": "display_data",
          "data": {
            "text/plain": "Hint: If `solid_gold = True`, then the cost of the ring is \\$100 (base cost), plus \\$10 times the length of the engraving.  You can get the length of the engraving with `len(engraving)`.  Otherwise, if `solid_gold = False`, then the cost of the ring is \\$50 (base cost), plus \\$7 times the length of the engraving.",
            "text/markdown": "<span style=\"color:#3366cc\">Hint:</span> If `solid_gold = True`, then the cost of the ring is \\$100 (base cost), plus \\$10 times the length of the engraving.  You can get the length of the engraving with `len(engraving)`.  Otherwise, if `solid_gold = False`, then the cost of the ring is \\$50 (base cost), plus \\$7 times the length of the engraving."
          },
          "metadata": {}
        },
        {
          "output_type": "display_data",
          "data": {
            "text/plain": "<IPython.core.display.Javascript object>",
            "application/javascript": "parent.postMessage({\"jupyterEvent\": \"custom.exercise_interaction\", \"data\": {\"interactionType\": 3, \"questionType\": 2, \"questionId\": \"2_CostProjectPartDeux\", \"learnToolsVersion\": \"0.3.4\", \"valueTowardsCompletion\": 0.0, \"failureMessage\": \"\", \"exceptionClass\": \"\", \"trace\": \"\", \"outcomeType\": 4}}, \"*\")"
          },
          "metadata": {}
        },
        {
          "output_type": "display_data",
          "data": {
            "text/plain": "Solution: \n```python\n# option 1\ndef cost_of_project(engraving, solid_gold):\n    num_units = len(engraving)\n    if solid_gold == True:\n        cost = 100 + 10 * num_units\n    else:\n        cost = 50 + 7 * num_units\n    return cost\n    \n# option 2 \ndef cost_of_project(engraving, solid_gold):\n    if solid_gold == True:\n        cost = 100 + 10 * len(engraving)\n    else:\n        cost = 50 + 7 * len(engraving)\n    return cost\n\n```",
            "text/markdown": "<span style=\"color:#33cc99\">Solution:</span> \n```python\n# option 1\ndef cost_of_project(engraving, solid_gold):\n    num_units = len(engraving)\n    if solid_gold == True:\n        cost = 100 + 10 * num_units\n    else:\n        cost = 50 + 7 * num_units\n    return cost\n    \n# option 2 \ndef cost_of_project(engraving, solid_gold):\n    if solid_gold == True:\n        cost = 100 + 10 * len(engraving)\n    else:\n        cost = 50 + 7 * len(engraving)\n    return cost\n\n```"
          },
          "metadata": {}
        }
      ]
    },
    {
      "cell_type": "markdown",
      "source": [
        "# Question 3\n",
        "\n",
        "You are a programmer at a water agency.  Recently, you have been tasked to write a function `get_water_bill()` that takes as input:\n",
        "- `num_gallons` = the number of gallons of water that a customer used that month.  (This will always be an integer with no decimal part.)\n",
        "\n",
        "It should output the water bill.  \n",
        "\n",
        "The water agency uses this pricing structure:\n",
        "<table style=\"width: 100%;\">\n",
        "<tbody>\n",
        "<tr><th><b>Tier</b></th><th><b>Amount in gallons</b></th><th><b>Price per 1000 gallons</b></th></tr>\n",
        "<tr>\n",
        "<td>Tier 1</td>\n",
        "<td>0 - 8,000</td>\n",
        "<td>\\$5</td>\n",
        "</tr>\n",
        "<tr>\n",
        "<td>Tier 2</td>\n",
        "<td>8,001 - 22,000</td>\n",
        "<td>\\$6</td>\n",
        "</tr>\n",
        "<tr>\n",
        "<td>Tier 3</td>\n",
        "<td>22,001 - 30,000</td>\n",
        "<td>\\$7</td>\n",
        "</tr>\n",
        "<tr>\n",
        "<td>Tier 4</td>\n",
        "<td>30,001+</td>\n",
        "<td>\\$10</td>\n",
        "</tr>\n",
        "</tbody>\n",
        "</table>\n",
        "\n",
        "For example:\n",
        "- Someone who uses 10,000 gallons of water in a month is placed in Tier 2, and needs to pay a water bill of \\\\$6 * 10 = \\\\$60.  In other words, `get_water_bill(10000)` should return `60.0`.\n",
        "- Someone who uses 25,000 gallons of water in a month is placed in Tier 3, and needs to pay a water bill of \\\\$7 * 25 = \\\\$175.  In other words, `get_water_bill(25000)` should return `175.0`.\n",
        "\n",
        "**Do not round your answer.**  So, your answer might return fractions of a penny."
      ],
      "metadata": {
        "id": "MJgEa2b9JWIy"
      }
    },
    {
      "cell_type": "code",
      "source": [
        "# TODO: Edit the function to return the correct bill for different\n",
        "# values of num_gallons\n",
        "def get_water_bill(num_gallons):\n",
        "    if num_gallons <= 8000:\n",
        "        bill = 5*num_gallons/1000\n",
        "    elif num_gallons <= 22000:\n",
        "        bill = 6*num_gallons/1000\n",
        "    elif num_gallons <=30000:\n",
        "        bill = 7*num_gallons/1000\n",
        "    else:\n",
        "        bill = 10*num_gallons/1000\n",
        "    return bill\n",
        "\n",
        "# Check your answer\n",
        "q3.check()"
      ],
      "metadata": {
        "execution": {
          "iopub.status.busy": "2024-05-22T07:03:38.271171Z",
          "iopub.execute_input": "2024-05-22T07:03:38.272034Z",
          "iopub.status.idle": "2024-05-22T07:03:38.283772Z",
          "shell.execute_reply.started": "2024-05-22T07:03:38.271989Z",
          "shell.execute_reply": "2024-05-22T07:03:38.28244Z"
        },
        "trusted": true,
        "id": "R_RRZ_RSJWIy",
        "outputId": "ecd32f9e-95f2-49c7-a33c-6ae44045da41"
      },
      "execution_count": null,
      "outputs": [
        {
          "output_type": "display_data",
          "data": {
            "text/plain": "<IPython.core.display.Javascript object>",
            "application/javascript": "parent.postMessage({\"jupyterEvent\": \"custom.exercise_interaction\", \"data\": {\"outcomeType\": 1, \"valueTowardsCompletion\": 0.2, \"interactionType\": 1, \"questionType\": 2, \"questionId\": \"3_GetWaterBill\", \"learnToolsVersion\": \"0.3.4\", \"failureMessage\": \"\", \"exceptionClass\": \"\", \"trace\": \"\"}}, \"*\")"
          },
          "metadata": {}
        },
        {
          "output_type": "display_data",
          "data": {
            "text/plain": "Correct",
            "text/markdown": "<span style=\"color:#33cc33\">Correct</span>"
          },
          "metadata": {}
        }
      ]
    },
    {
      "cell_type": "code",
      "source": [
        "# Uncomment to see a hint\n",
        "q3.hint()\n",
        "\n",
        "# Uncomment to see the solution\n",
        "q3.solution()"
      ],
      "metadata": {
        "execution": {
          "iopub.status.busy": "2024-05-22T07:02:18.881285Z",
          "iopub.execute_input": "2024-05-22T07:02:18.881727Z",
          "iopub.status.idle": "2024-05-22T07:02:18.898813Z",
          "shell.execute_reply.started": "2024-05-22T07:02:18.881687Z",
          "shell.execute_reply": "2024-05-22T07:02:18.896826Z"
        },
        "trusted": true,
        "id": "EOOpJpLBJWIz",
        "outputId": "c9e0c562-65f8-46f4-c6b6-140dc9547c9b"
      },
      "execution_count": null,
      "outputs": [
        {
          "output_type": "display_data",
          "data": {
            "text/plain": "<IPython.core.display.Javascript object>",
            "application/javascript": "parent.postMessage({\"jupyterEvent\": \"custom.exercise_interaction\", \"data\": {\"interactionType\": 2, \"questionType\": 2, \"questionId\": \"3_GetWaterBill\", \"learnToolsVersion\": \"0.3.4\", \"valueTowardsCompletion\": 0.0, \"failureMessage\": \"\", \"exceptionClass\": \"\", \"trace\": \"\", \"outcomeType\": 4}}, \"*\")"
          },
          "metadata": {}
        },
        {
          "output_type": "display_data",
          "data": {
            "text/plain": "Hint: \nYour solution should look something like:\n```python\ndef get_water_bill(num_gallons):\n    if num_gallons <= 8000:\n        bill = ____ \n    elif num_gallons <= 22000:\n        bill = ____ \n    elif num_gallons <= 30000:\n        bill = ____\n    else:\n        bill = ____ \n    return bill\n```",
            "text/markdown": "<span style=\"color:#3366cc\">Hint:</span> \nYour solution should look something like:\n```python\ndef get_water_bill(num_gallons):\n    if num_gallons <= 8000:\n        bill = ____ \n    elif num_gallons <= 22000:\n        bill = ____ \n    elif num_gallons <= 30000:\n        bill = ____\n    else:\n        bill = ____ \n    return bill\n```\n"
          },
          "metadata": {}
        },
        {
          "output_type": "display_data",
          "data": {
            "text/plain": "<IPython.core.display.Javascript object>",
            "application/javascript": "parent.postMessage({\"jupyterEvent\": \"custom.exercise_interaction\", \"data\": {\"interactionType\": 3, \"questionType\": 2, \"questionId\": \"3_GetWaterBill\", \"learnToolsVersion\": \"0.3.4\", \"valueTowardsCompletion\": 0.0, \"failureMessage\": \"\", \"exceptionClass\": \"\", \"trace\": \"\", \"outcomeType\": 4}}, \"*\")"
          },
          "metadata": {}
        },
        {
          "output_type": "display_data",
          "data": {
            "text/plain": "Solution: \n```python\ndef get_water_bill(num_gallons):\n    if num_gallons <= 8000:\n        bill = 5 * num_gallons / 1000\n    elif num_gallons <= 22000:\n        bill = 6 * num_gallons / 1000\n    elif num_gallons <= 30000:\n        bill = 7 * num_gallons / 1000\n    else:\n        bill = 10 * num_gallons / 1000\n    return bill\n\n```",
            "text/markdown": "<span style=\"color:#33cc99\">Solution:</span> \n```python\ndef get_water_bill(num_gallons):\n    if num_gallons <= 8000:\n        bill = 5 * num_gallons / 1000\n    elif num_gallons <= 22000:\n        bill = 6 * num_gallons / 1000\n    elif num_gallons <= 30000:\n        bill = 7 * num_gallons / 1000\n    else:\n        bill = 10 * num_gallons / 1000\n    return bill\n\n```"
          },
          "metadata": {}
        }
      ]
    },
    {
      "cell_type": "markdown",
      "source": [
        "# Question 4\n",
        "\n",
        "You work for a company that provides data services.  For \\\\$100/month, your company provides 15 gigabytes (GB) of data.  Then, any additional data is billed at \\\\$0.10/MB (or \\\\$100/GB, since 1,000 MB are in 1 GB).\n",
        "\n",
        "Use the next code cell to write a function `get_phone_bill()` that takes as input:\n",
        "- `gb` = number of GB that the customer used in a month\n",
        "\n",
        "It should return the customer's total phone bill.\n",
        "\n",
        "For instance:\n",
        "- A customer who uses 10 GB of data in one month is billed only \\\\$100, since the usage stayed under 15 GB.  In other words, `get_phone_bill(10)` should return `100`.\n",
        "- A customer who uses 15.1 GB (or 15 GB + 100 MB) of data in one month has gone over by .1 GB, so they must pay \\\\$100 (cost of plan), plus \\\\$0.10 * 100 = \\\\$10, for a total bill of \\\\$110.  In other words, `get_phone_bill(15.1)` should return `110`.\n",
        "\n",
        "Do not round your answer."
      ],
      "metadata": {
        "id": "7xhNFq5DJWIz"
      }
    },
    {
      "cell_type": "code",
      "source": [
        "# TODO: Edit the function to return the correct bill for different\n",
        "# values of GB\n",
        "def get_phone_bill(gb):\n",
        "    if gb <= 15:\n",
        "        bill = 100\n",
        "    else:\n",
        "        bill = 100+(gb-15)*100\n",
        "    return bill\n",
        "\n",
        "# Check your answer\n",
        "q4.check()"
      ],
      "metadata": {
        "execution": {
          "iopub.status.busy": "2024-05-22T07:09:29.135433Z",
          "iopub.execute_input": "2024-05-22T07:09:29.135955Z",
          "iopub.status.idle": "2024-05-22T07:09:29.148878Z",
          "shell.execute_reply.started": "2024-05-22T07:09:29.13592Z",
          "shell.execute_reply": "2024-05-22T07:09:29.147071Z"
        },
        "trusted": true,
        "id": "3_cZznAPJWI0",
        "outputId": "a5e72d00-91a0-4ab3-ee92-e105111eb46f"
      },
      "execution_count": null,
      "outputs": [
        {
          "output_type": "display_data",
          "data": {
            "text/plain": "<IPython.core.display.Javascript object>",
            "application/javascript": "parent.postMessage({\"jupyterEvent\": \"custom.exercise_interaction\", \"data\": {\"outcomeType\": 1, \"valueTowardsCompletion\": 0.2, \"interactionType\": 1, \"questionType\": 2, \"questionId\": \"4_GetPhoneBill\", \"learnToolsVersion\": \"0.3.4\", \"failureMessage\": \"\", \"exceptionClass\": \"\", \"trace\": \"\"}}, \"*\")"
          },
          "metadata": {}
        },
        {
          "output_type": "display_data",
          "data": {
            "text/plain": "Correct",
            "text/markdown": "<span style=\"color:#33cc33\">Correct</span>"
          },
          "metadata": {}
        }
      ]
    },
    {
      "cell_type": "code",
      "source": [
        "# Uncomment to see a hint\n",
        "q4.hint()\n",
        "\n",
        "# Uncomment to see the solution\n",
        "q4.solution()"
      ],
      "metadata": {
        "execution": {
          "iopub.status.busy": "2024-05-22T07:08:59.403087Z",
          "iopub.execute_input": "2024-05-22T07:08:59.403476Z",
          "iopub.status.idle": "2024-05-22T07:08:59.419119Z",
          "shell.execute_reply.started": "2024-05-22T07:08:59.403447Z",
          "shell.execute_reply": "2024-05-22T07:08:59.417696Z"
        },
        "trusted": true,
        "id": "UZtID3ydJWI0",
        "outputId": "90fc05c2-6624-49af-87f9-73e6fe7720b5"
      },
      "execution_count": null,
      "outputs": [
        {
          "output_type": "display_data",
          "data": {
            "text/plain": "<IPython.core.display.Javascript object>",
            "application/javascript": "parent.postMessage({\"jupyterEvent\": \"custom.exercise_interaction\", \"data\": {\"interactionType\": 2, \"questionType\": 2, \"questionId\": \"4_GetPhoneBill\", \"learnToolsVersion\": \"0.3.4\", \"valueTowardsCompletion\": 0.0, \"failureMessage\": \"\", \"exceptionClass\": \"\", \"trace\": \"\", \"outcomeType\": 4}}, \"*\")"
          },
          "metadata": {}
        },
        {
          "output_type": "display_data",
          "data": {
            "text/plain": "Hint: \nYour solution should look something like:\n```python\ndef get_phone_bill(gb):\n    if gb <= 15:\n        bill = ____\n    else:\n        bill = 100 + ____\n    return bill\n```",
            "text/markdown": "<span style=\"color:#3366cc\">Hint:</span> \nYour solution should look something like:\n```python\ndef get_phone_bill(gb):\n    if gb <= 15:\n        bill = ____\n    else:\n        bill = 100 + ____\n    return bill\n```\n"
          },
          "metadata": {}
        },
        {
          "output_type": "display_data",
          "data": {
            "text/plain": "<IPython.core.display.Javascript object>",
            "application/javascript": "parent.postMessage({\"jupyterEvent\": \"custom.exercise_interaction\", \"data\": {\"interactionType\": 3, \"questionType\": 2, \"questionId\": \"4_GetPhoneBill\", \"learnToolsVersion\": \"0.3.4\", \"valueTowardsCompletion\": 0.0, \"failureMessage\": \"\", \"exceptionClass\": \"\", \"trace\": \"\", \"outcomeType\": 4}}, \"*\")"
          },
          "metadata": {}
        },
        {
          "output_type": "display_data",
          "data": {
            "text/plain": "Solution: \n```python\ndef get_phone_bill(gb):\n    if gb <= 15:\n        bill = 100\n    else:\n        bill = 100 + (gb - 15) * 100\n    return bill\n\n```",
            "text/markdown": "<span style=\"color:#33cc99\">Solution:</span> \n```python\ndef get_phone_bill(gb):\n    if gb <= 15:\n        bill = 100\n    else:\n        bill = 100 + (gb - 15) * 100\n    return bill\n\n```"
          },
          "metadata": {}
        }
      ]
    },
    {
      "cell_type": "markdown",
      "source": [
        "# 🌶️ Question 5\n",
        "\n",
        "In Mexico, foods and beverages that are high in saturated fat, trans fat, sugar, sodium, and/or calories appear with warning labels that are designed to help consumers make healthy food choices.\n",
        "\n",
        "For instance, the [box of cookies](https://world.openfoodfacts.org/product/7501000673209/florentinas-gamesa) in the image below appears with two labels (in the upper right corner):\n",
        "- EXCESO CALORÍAS (in English, EXCESS CALORIES)\n",
        "- EXCESO AZÚCARES (in English, EXCESS SUGAR)\n",
        "\n",
        "<center><img src=\"https://storage.googleapis.com/kaggle-media/learn/images/VXYKHnM.png\" alt=\"drawing\" width=\"500\"/></center>\n",
        "\n",
        "In this question, you'll work with a function `get_labels()` that takes the nutritional details about a food item and prints the needed warning labels.  This function takes several inputs:\n",
        "- `food_type` = one of `\"solid\"` or `\"liquid\"`\n",
        "- `serving_size` = size of one serving (if solid, in grams; if liquid, in milliliters)\n",
        "- `calories_per_serving` = calories in one serving\n",
        "- `saturated_fat_g` = grams of saturated fat in one serving\n",
        "- `trans_fat_g` = grams of trans fat in one serving\n",
        "- `sodium_mg` = mg of sodium in one serving\n",
        "- `sugars_g` = grams of sugar in one serving\n",
        "\n",
        "Note that some of the code here should feel unfamiliar to you, since we have not shared the details of how some of the functions like `excess_sugar()` or `excess_saturated_fat()` work.  But at a high level, these are functions that return a value of `True` if the food is deemed to have an excess of sugar or saturated fat, respectively.  These functions are used within the `get_labels()` function, and whenever there is an excess (of sugar or saturated fat, but also of trans fat, sodium, or calories), it prints the corresponding label."
      ],
      "metadata": {
        "id": "45kCzlbiJWI0"
      }
    },
    {
      "cell_type": "code",
      "source": [
        "# import functions needed to make get_labels work\n",
        "from learntools.intro_to_programming.ex4q5 import excess_sugar, excess_saturated_fat, excess_trans_fat, excess_sodium, excess_calories\n",
        "\n",
        "def get_labels(food_type, serving_size, calories_per_serving, saturated_fat_g, trans_fat_g, sodium_mg, sugars_g):\n",
        "    # Print messages based on findings\n",
        "    if excess_sugar(sugars_g, calories_per_serving) == True:\n",
        "        print(\"EXCESO AZÚCARES / EXCESS SUGAR\")\n",
        "    if excess_saturated_fat(saturated_fat_g, calories_per_serving) == True:\n",
        "        print(\"EXCESO GRASAS SATURADAS / EXCESS SATURATED FAT\")\n",
        "    if excess_trans_fat(trans_fat_g, calories_per_serving) == True:\n",
        "        print(\"EXCESO GRASAS TRANS / EXCESS TRANS FAT\")\n",
        "    if excess_sodium(calories_per_serving, sodium_mg) == True:\n",
        "        print(\"EXCESO SODIO / EXCESS SODIUM\")\n",
        "    if excess_calories(food_type, calories_per_serving, serving_size) == True:\n",
        "        print(\"EXCESO CALORÍAS / EXCESS CALORIES\")"
      ],
      "metadata": {
        "execution": {
          "iopub.status.busy": "2024-05-22T07:10:35.078547Z",
          "iopub.execute_input": "2024-05-22T07:10:35.078964Z",
          "iopub.status.idle": "2024-05-22T07:10:35.091145Z",
          "shell.execute_reply.started": "2024-05-22T07:10:35.078931Z",
          "shell.execute_reply": "2024-05-22T07:10:35.089739Z"
        },
        "trusted": true,
        "id": "pz3R3C5wJWI1"
      },
      "execution_count": null,
      "outputs": []
    },
    {
      "cell_type": "markdown",
      "source": [
        "The next code cell demonstrates how to use `get_labels()` to get the warning labels that the food item should contain.  We begin with [bologna](https://world.openfoodfacts.org/product/4099100179378/bologna).  Here is [an image](https://storage.googleapis.com/kaggle-media/learn/images/Cfcx72e.png) with all of the nutritional information.  Note that for this food,\n",
        "- `food_type = \"solid\"` (because bologna is a solid and not a liquid)\n",
        "- `serving_size = 32` (the serving size is 32 grams)\n",
        "- `calories_per_serving = 110` (there are 110 calories per serving)\n",
        "- `saturated_fat_g = 2.5` (there are 2.5 grams of saturated fat per serving)\n",
        "- `trans_fat_g = 0` (there are 0 grams of trans fat per serving)\n",
        "- `sodium_mg = 400` (there are 400 mg of sodium per serving)\n",
        "- `sugars_g = 1` (the nutrition facts say <1g, but we will round it up to 1 gram per serving to be safe)\n",
        "\n",
        "By supplying all of these values to the function, we can print the warning labels."
      ],
      "metadata": {
        "id": "25Yb0lciJWI1"
      }
    },
    {
      "cell_type": "code",
      "source": [
        "# bologna https://world.openfoodfacts.org/product/4099100179378/bologna\n",
        "get_labels(\"solid\", 32, 110, 2.5, 0, 400, 1)"
      ],
      "metadata": {
        "execution": {
          "iopub.status.busy": "2024-05-22T07:10:42.801829Z",
          "iopub.execute_input": "2024-05-22T07:10:42.802234Z",
          "iopub.status.idle": "2024-05-22T07:10:42.808947Z",
          "shell.execute_reply.started": "2024-05-22T07:10:42.802203Z",
          "shell.execute_reply": "2024-05-22T07:10:42.807591Z"
        },
        "trusted": true,
        "id": "All6_klrJWI4",
        "outputId": "a466b80c-c581-455b-a0a1-36a812cc933b"
      },
      "execution_count": null,
      "outputs": [
        {
          "name": "stdout",
          "text": "EXCESO GRASAS SATURADAS / EXCESS SATURATED FAT\nEXCESO SODIO / EXCESS SODIUM\nEXCESO CALORÍAS / EXCESS CALORIES\n",
          "output_type": "stream"
        }
      ]
    },
    {
      "cell_type": "markdown",
      "source": [
        "This bologna has three labels, printed in the output above.\n",
        "\n",
        "For the rest of this question, you will use the same `get_labels()` function to determine the labels for more foods.  This question is designed to help you get practice with feeling comfortable with code that other people have written, and where you don't have time to review every single line of code before interacting with it.  For instance, when you take the [Intro to Machine Learning course](http://www.kaggle.com/learn/intro-to-machine-learning), you'll work with a Python package called \"scikit-learn\", which is a large collection of code that you'll learn how to run without reviewing all of the code in detail (as it would take too long, and you can trust that it was implemented correctly).\n",
        "\n",
        "In general, as you continue coding in Python, you will often be running code that other people have written.  This is common practice for advanced programmers.\n",
        "\n",
        "In the next code cell, fill in the values for [this cereal](https://world.openfoodfacts.org/product/7501008023624/zucaritas-kellogg-s).  Here is [an image](https://storage.googleapis.com/kaggle-media/learn/images/MUxzHVU.png) with all of the nutritional information.\n",
        "\n",
        "**Note**: running the line of code below as-is will return an error.  You have to fill in the nutritional values first."
      ],
      "metadata": {
        "id": "QdvFdHenJWI5"
      }
    },
    {
      "cell_type": "code",
      "source": [
        "# zucaritas cereal https://world.openfoodfacts.org/product/7501008023624/zucaritas-kellogg-s\n",
        "# TODO: Uncomment the line below, fill in the values, and run the function\n",
        "get_labels()"
      ],
      "metadata": {
        "execution": {
          "iopub.status.busy": "2024-05-22T07:11:55.280926Z",
          "iopub.execute_input": "2024-05-22T07:11:55.281382Z",
          "iopub.status.idle": "2024-05-22T07:11:55.747264Z",
          "shell.execute_reply.started": "2024-05-22T07:11:55.28135Z",
          "shell.execute_reply": "2024-05-22T07:11:55.745764Z"
        },
        "trusted": true,
        "id": "YKl_kHFoJWI5",
        "outputId": "3d08dd21-b862-4e38-c02c-ec270a0b4b6c"
      },
      "execution_count": null,
      "outputs": [
        {
          "traceback": [
            "\u001b[0;31m---------------------------------------------------------------------------\u001b[0m",
            "\u001b[0;31mTypeError\u001b[0m                                 Traceback (most recent call last)",
            "Cell \u001b[0;32mIn[23], line 3\u001b[0m\n\u001b[1;32m      1\u001b[0m \u001b[38;5;66;03m# zucaritas cereal https://world.openfoodfacts.org/product/7501008023624/zucaritas-kellogg-s\u001b[39;00m\n\u001b[1;32m      2\u001b[0m \u001b[38;5;66;03m# TODO: Uncomment the line below, fill in the values, and run the function\u001b[39;00m\n\u001b[0;32m----> 3\u001b[0m \u001b[43mget_labels\u001b[49m\u001b[43m(\u001b[49m\u001b[43m)\u001b[49m\n",
            "\u001b[0;31mTypeError\u001b[0m: get_labels() missing 7 required positional arguments: 'food_type', 'serving_size', 'calories_per_serving', 'saturated_fat_g', 'trans_fat_g', 'sodium_mg', and 'sugars_g'"
          ],
          "ename": "TypeError",
          "evalue": "get_labels() missing 7 required positional arguments: 'food_type', 'serving_size', 'calories_per_serving', 'saturated_fat_g', 'trans_fat_g', 'sodium_mg', and 'sugars_g'",
          "output_type": "error"
        }
      ]
    },
    {
      "cell_type": "markdown",
      "source": [
        "Next, try [these mozzarella sticks](https://world-es.openfoodfacts.org/producto/0062325540104/mozzarella-cheese-sticks).  Here is [an image](https://storage.googleapis.com/kaggle-media/learn/images/rcdB7VH.png) with all of the nutritional information."
      ],
      "metadata": {
        "id": "pOINbwUrJWI5"
      }
    },
    {
      "cell_type": "code",
      "source": [
        "# mozzarella sticks https://world-es.openfoodfacts.org/producto/0062325540104/mozzarella-cheese-sticks\n",
        "# TODO: Uncomment the line below, fill in the values, and run the function\n",
        "#get_labels()"
      ],
      "metadata": {
        "execution": {
          "iopub.execute_input": "2022-03-04T20:34:33.195521Z",
          "iopub.status.busy": "2022-03-04T20:34:33.194973Z",
          "iopub.status.idle": "2022-03-04T20:34:33.202652Z",
          "shell.execute_reply": "2022-03-04T20:34:33.20187Z",
          "shell.execute_reply.started": "2022-03-04T20:34:33.195486Z"
        },
        "id": "oyu8g9AUJWI6"
      },
      "execution_count": null,
      "outputs": []
    },
    {
      "cell_type": "markdown",
      "source": [
        "Feel free to skip to the end of the notebook now and run `q5.check()` to complete the exercise.  If you want to try more foods,\n",
        "- try [these cookies](https://world.openfoodfacts.org/product/0069700118545/biscuits-au-sucre-pretraches).  Here is [an image](https://storage.googleapis.com/kaggle-media/learn/images/2Bc271o.png) with all of the nutritional information.\n",
        "- try [this soda](https://world-es.openfoodfacts.org/producto/0078000113464/orange-soda-sunkist).  Here is [an image](https://storage.googleapis.com/kaggle-media/learn/images/RsBYa8E.png) with all of the nutritional information.\n",
        "\n",
        "Use the two code cells below for this."
      ],
      "metadata": {
        "id": "1ogZhGbsJWI6"
      }
    },
    {
      "cell_type": "code",
      "source": [
        "# pillsbury cookies https://world.openfoodfacts.org/product/0069700118545/biscuits-au-sucre-pretraches\n",
        "# TODO: Uncomment the line below, fill in the values, and run the function\n",
        "#get_labels()"
      ],
      "metadata": {
        "execution": {
          "iopub.execute_input": "2022-03-04T20:34:33.204198Z",
          "iopub.status.busy": "2022-03-04T20:34:33.203725Z",
          "iopub.status.idle": "2022-03-04T20:34:33.21352Z",
          "shell.execute_reply": "2022-03-04T20:34:33.212498Z",
          "shell.execute_reply.started": "2022-03-04T20:34:33.204154Z"
        },
        "id": "35BotmplJWI6"
      },
      "execution_count": null,
      "outputs": []
    },
    {
      "cell_type": "code",
      "source": [
        "# sunkist orange soda https://world-es.openfoodfacts.org/producto/0078000113464/orange-soda-sunkist\n",
        "# TODO: Uncomment the line below, fill in the values, and run the function\n",
        "#get_labels()"
      ],
      "metadata": {
        "execution": {
          "iopub.execute_input": "2022-03-04T20:34:33.216655Z",
          "iopub.status.busy": "2022-03-04T20:34:33.21632Z",
          "iopub.status.idle": "2022-03-04T20:34:33.223222Z",
          "shell.execute_reply": "2022-03-04T20:34:33.222331Z",
          "shell.execute_reply.started": "2022-03-04T20:34:33.216625Z"
        },
        "id": "r49l8P0dJWI6"
      },
      "execution_count": null,
      "outputs": []
    },
    {
      "cell_type": "markdown",
      "source": [
        "Once you have finished investigating the food items in this question, run the final code cell to get credit for completing this problem."
      ],
      "metadata": {
        "id": "B9bptexvJWI7"
      }
    },
    {
      "cell_type": "code",
      "source": [
        "# Get credit for completing the problem\n",
        "q5.check()"
      ],
      "metadata": {
        "execution": {
          "iopub.status.busy": "2024-05-22T07:12:17.374253Z",
          "iopub.execute_input": "2024-05-22T07:12:17.374688Z",
          "iopub.status.idle": "2024-05-22T07:12:17.392838Z",
          "shell.execute_reply.started": "2024-05-22T07:12:17.37464Z",
          "shell.execute_reply": "2024-05-22T07:12:17.390972Z"
        },
        "trusted": true,
        "id": "YI5mET4mJWI7",
        "outputId": "f7686138-36a8-48d1-890f-5493893c4e08"
      },
      "execution_count": null,
      "outputs": [
        {
          "output_type": "display_data",
          "data": {
            "text/plain": "<IPython.core.display.Javascript object>",
            "application/javascript": "parent.postMessage({\"jupyterEvent\": \"custom.exercise_interaction\", \"data\": {\"outcomeType\": 1, \"valueTowardsCompletion\": 0.2, \"interactionType\": 1, \"questionType\": 2, \"questionId\": \"5_GetLabels\", \"learnToolsVersion\": \"0.3.4\", \"failureMessage\": \"\", \"exceptionClass\": \"\", \"trace\": \"\"}}, \"*\")"
          },
          "metadata": {}
        },
        {
          "output_type": "display_data",
          "data": {
            "text/plain": "Once you have determined the labels for all of the food items, you're ready to move on to the next lesson!",
            "text/markdown": "<span style=\"color:#33cc33\">Once you have determined the labels for all of the food items, you're ready to move on to the next lesson!</span>"
          },
          "metadata": {}
        }
      ]
    },
    {
      "cell_type": "markdown",
      "source": [
        "# Keep going\n",
        "\n",
        "Continue to the next lesson to **[learn about Python lists](https://www.kaggle.com/alexisbcook/intro-to-lists)**."
      ],
      "metadata": {
        "id": "kbWtLBs9JWI7"
      }
    },
    {
      "cell_type": "markdown",
      "source": [
        "---\n",
        "\n",
        "\n",
        "\n",
        "\n",
        "*Have questions or comments? Visit the [course discussion forum](https://www.kaggle.com/learn/intro-to-programming/discussion) to chat with other learners.*"
      ],
      "metadata": {
        "id": "vw_SPRbjJWI7"
      }
    }
  ]
}