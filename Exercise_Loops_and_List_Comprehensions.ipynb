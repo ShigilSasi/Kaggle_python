{
  "metadata": {
    "kernelspec": {
      "display_name": "Python 3",
      "language": "python",
      "name": "python3"
    },
    "language_info": {
      "name": "python",
      "version": "3.10.13",
      "mimetype": "text/x-python",
      "codemirror_mode": {
        "name": "ipython",
        "version": 3
      },
      "pygments_lexer": "ipython3",
      "nbconvert_exporter": "python",
      "file_extension": ".py"
    },
    "learntools_metadata": {
      "lesson_index": 4,
      "type": "exercise"
    },
    "kaggle": {
      "accelerator": "none",
      "dataSources": [],
      "isInternetEnabled": false,
      "language": "python",
      "sourceType": "notebook",
      "isGpuEnabled": false
    },
    "colab": {
      "name": "Exercise: Loops and List Comprehensions",
      "provenance": []
    }
  },
  "nbformat_minor": 0,
  "nbformat": 4,
  "cells": [
    {
      "cell_type": "markdown",
      "source": [
        "**This notebook is an exercise in the [Python](https://www.kaggle.com/learn/python) course.  You can reference the tutorial at [this link](https://www.kaggle.com/colinmorris/loops-and-list-comprehensions).**\n",
        "\n",
        "---\n"
      ],
      "metadata": {
        "id": "g3MyeHTATpwV"
      }
    },
    {
      "cell_type": "markdown",
      "source": [
        "With all you've learned, you can start writing much more interesting programs. See if you can solve the problems below.\n",
        "\n",
        "As always, run the setup code below before working on the questions."
      ],
      "metadata": {
        "id": "2QF61TVATpwb"
      }
    },
    {
      "cell_type": "code",
      "source": [
        "from learntools.core import binder; binder.bind(globals())\n",
        "from learntools.python.ex5 import *\n",
        "print('Setup complete.')"
      ],
      "metadata": {
        "execution": {
          "iopub.status.busy": "2024-05-25T05:15:57.979376Z",
          "iopub.execute_input": "2024-05-25T05:15:57.979964Z",
          "iopub.status.idle": "2024-05-25T05:15:59.343539Z",
          "shell.execute_reply.started": "2024-05-25T05:15:57.979913Z",
          "shell.execute_reply": "2024-05-25T05:15:59.342297Z"
        },
        "trusted": true,
        "id": "rDvhF89-Tpwc",
        "outputId": "34d11e1b-b9fd-4e51-bad7-d6017f32bc77"
      },
      "execution_count": null,
      "outputs": [
        {
          "name": "stdout",
          "text": "Setup complete.\n",
          "output_type": "stream"
        }
      ]
    },
    {
      "cell_type": "markdown",
      "source": [
        "# 1.\n",
        "\n",
        "Have you ever felt debugging involved a bit of luck? The following program has a bug. Try to identify the bug and fix it."
      ],
      "metadata": {
        "id": "G1L8q84wTpwf"
      }
    },
    {
      "cell_type": "code",
      "source": [
        "def has_lucky_number(nums):\n",
        "    \"\"\"Return whether the given list of numbers is lucky. A lucky list contains\n",
        "    at least one number divisible by 7.\n",
        "    \"\"\"\n",
        "    for num in nums:\n",
        "        if num % 7 == 0:\n",
        "            return True\n",
        "        else:\n",
        "            return False"
      ],
      "metadata": {
        "execution": {
          "iopub.status.busy": "2024-05-25T05:28:26.393683Z",
          "iopub.execute_input": "2024-05-25T05:28:26.394129Z",
          "iopub.status.idle": "2024-05-25T05:28:26.400917Z",
          "shell.execute_reply.started": "2024-05-25T05:28:26.394094Z",
          "shell.execute_reply": "2024-05-25T05:28:26.399644Z"
        },
        "trusted": true,
        "id": "dyvyGQwBTpwg"
      },
      "execution_count": null,
      "outputs": []
    },
    {
      "cell_type": "markdown",
      "source": [
        "Try to identify the bug and fix it in the cell below:"
      ],
      "metadata": {
        "id": "dGHO-XuXTpwh"
      }
    },
    {
      "cell_type": "code",
      "source": [
        "def has_lucky_number(nums):\n",
        "    \"\"\"Return whether the given list of numbers is lucky. A lucky list contains\n",
        "    at least one number divisible by 7.\n",
        "    \"\"\"\n",
        "    for num in nums:\n",
        "        if num % 7 == 0:\n",
        "            return True\n",
        "    return False\n",
        "\n",
        "# Check your answer\n",
        "q1.check()"
      ],
      "metadata": {
        "execution": {
          "iopub.status.busy": "2024-05-25T05:32:10.329392Z",
          "iopub.execute_input": "2024-05-25T05:32:10.329889Z",
          "iopub.status.idle": "2024-05-25T05:32:10.342022Z",
          "shell.execute_reply.started": "2024-05-25T05:32:10.329852Z",
          "shell.execute_reply": "2024-05-25T05:32:10.340635Z"
        },
        "trusted": true,
        "id": "-fMtaC1FTpwh",
        "outputId": "f2ef9927-1113-4fe1-87c0-96a267530790"
      },
      "execution_count": null,
      "outputs": [
        {
          "output_type": "display_data",
          "data": {
            "text/plain": "<IPython.core.display.Javascript object>",
            "application/javascript": "parent.postMessage({\"jupyterEvent\": \"custom.exercise_interaction\", \"data\": {\"outcomeType\": 1, \"valueTowardsCompletion\": 0.25, \"interactionType\": 1, \"questionType\": 2, \"questionId\": \"1_EarlyExitDebugging\", \"learnToolsVersion\": \"0.3.4\", \"failureMessage\": \"\", \"exceptionClass\": \"\", \"trace\": \"\"}}, \"*\")"
          },
          "metadata": {}
        },
        {
          "output_type": "display_data",
          "data": {
            "text/plain": "Correct: \n\nRemember that `return` causes a function to exit immediately. So our original implementation always ran for just one iteration. We can only return `False` if we've looked at every element of the list (and confirmed that none of them are lucky). Though we can return early if the answer is `True`:\n\n```python\ndef has_lucky_number(nums):\n    for num in nums:\n        if num % 7 == 0:\n            return True\n    # We've exhausted the list without finding a lucky number\n    return False\n```\n\nHere's a one-line version using a list comprehension with Python's `any` function (you can read about what it does by calling `help(any)`):\n\n```python\ndef has_lucky_number(nums):\n    return any([num % 7 == 0 for num in nums])\n```",
            "text/markdown": "<span style=\"color:#33cc33\">Correct:</span> \n\nRemember that `return` causes a function to exit immediately. So our original implementation always ran for just one iteration. We can only return `False` if we've looked at every element of the list (and confirmed that none of them are lucky). Though we can return early if the answer is `True`:\n\n```python\ndef has_lucky_number(nums):\n    for num in nums:\n        if num % 7 == 0:\n            return True\n    # We've exhausted the list without finding a lucky number\n    return False\n```\n\nHere's a one-line version using a list comprehension with Python's `any` function (you can read about what it does by calling `help(any)`):\n\n```python\ndef has_lucky_number(nums):\n    return any([num % 7 == 0 for num in nums])\n```\n"
          },
          "metadata": {}
        }
      ]
    },
    {
      "cell_type": "code",
      "source": [
        "q1.hint()\n",
        "q1.solution()"
      ],
      "metadata": {
        "execution": {
          "iopub.status.busy": "2024-05-25T05:30:11.119338Z",
          "iopub.execute_input": "2024-05-25T05:30:11.119821Z",
          "iopub.status.idle": "2024-05-25T05:30:11.136305Z",
          "shell.execute_reply.started": "2024-05-25T05:30:11.119777Z",
          "shell.execute_reply": "2024-05-25T05:30:11.134832Z"
        },
        "trusted": true,
        "id": "hh2OsCpqTpwj",
        "outputId": "c5960391-3069-4e11-9554-793423d0965b"
      },
      "execution_count": null,
      "outputs": [
        {
          "output_type": "display_data",
          "data": {
            "text/plain": "<IPython.core.display.Javascript object>",
            "application/javascript": "parent.postMessage({\"jupyterEvent\": \"custom.exercise_interaction\", \"data\": {\"interactionType\": 2, \"questionType\": 2, \"questionId\": \"1_EarlyExitDebugging\", \"learnToolsVersion\": \"0.3.4\", \"valueTowardsCompletion\": 0.0, \"failureMessage\": \"\", \"exceptionClass\": \"\", \"trace\": \"\", \"outcomeType\": 4}}, \"*\")"
          },
          "metadata": {}
        },
        {
          "output_type": "display_data",
          "data": {
            "text/plain": "Hint: How many times does the body of the loop run for a list of length n? (If you're not sure, try adding a `print()` call on the line before the `if`.)",
            "text/markdown": "<span style=\"color:#3366cc\">Hint:</span> How many times does the body of the loop run for a list of length n? (If you're not sure, try adding a `print()` call on the line before the `if`.)"
          },
          "metadata": {}
        },
        {
          "output_type": "display_data",
          "data": {
            "text/plain": "<IPython.core.display.Javascript object>",
            "application/javascript": "parent.postMessage({\"jupyterEvent\": \"custom.exercise_interaction\", \"data\": {\"interactionType\": 3, \"questionType\": 2, \"questionId\": \"1_EarlyExitDebugging\", \"learnToolsVersion\": \"0.3.4\", \"valueTowardsCompletion\": 0.0, \"failureMessage\": \"\", \"exceptionClass\": \"\", \"trace\": \"\", \"outcomeType\": 4}}, \"*\")"
          },
          "metadata": {}
        },
        {
          "output_type": "display_data",
          "data": {
            "text/plain": "Solution: Remember that `return` causes a function to exit immediately. So our original implementation always ran for just one iteration. We can only return `False` if we've looked at every element of the list (and confirmed that none of them are lucky). Though we can return early if the answer is `True`:\n\n```python\ndef has_lucky_number(nums):\n    for num in nums:\n        if num % 7 == 0:\n            return True\n    # We've exhausted the list without finding a lucky number\n    return False\n```\n\nHere's a one-line version using a list comprehension with Python's `any` function (you can read about what it does by calling `help(any)`):\n\n```python\ndef has_lucky_number(nums):\n    return any([num % 7 == 0 for num in nums])\n```",
            "text/markdown": "<span style=\"color:#33cc99\">Solution:</span> Remember that `return` causes a function to exit immediately. So our original implementation always ran for just one iteration. We can only return `False` if we've looked at every element of the list (and confirmed that none of them are lucky). Though we can return early if the answer is `True`:\n\n```python\ndef has_lucky_number(nums):\n    for num in nums:\n        if num % 7 == 0:\n            return True\n    # We've exhausted the list without finding a lucky number\n    return False\n```\n\nHere's a one-line version using a list comprehension with Python's `any` function (you can read about what it does by calling `help(any)`):\n\n```python\ndef has_lucky_number(nums):\n    return any([num % 7 == 0 for num in nums])\n```\n"
          },
          "metadata": {}
        }
      ]
    },
    {
      "cell_type": "markdown",
      "source": [
        "# 2.\n",
        "Look at the Python expression below. What do you think we'll get when we run it? When you've made your prediction, uncomment the code and run the cell to see if you were right."
      ],
      "metadata": {
        "id": "HRtAdE-sTpwj"
      }
    },
    {
      "cell_type": "code",
      "source": [
        "[1, 2, 3, 4] > 2"
      ],
      "metadata": {
        "execution": {
          "iopub.status.busy": "2024-05-25T05:32:43.900484Z",
          "iopub.execute_input": "2024-05-25T05:32:43.901044Z",
          "iopub.status.idle": "2024-05-25T05:32:44.393446Z",
          "shell.execute_reply.started": "2024-05-25T05:32:43.900996Z",
          "shell.execute_reply": "2024-05-25T05:32:44.391493Z"
        },
        "trusted": true,
        "id": "attktK7ETpwk",
        "outputId": "42bd4f58-4b99-4df9-bcb3-298ebd6f43b4"
      },
      "execution_count": null,
      "outputs": [
        {
          "traceback": [
            "\u001b[0;31m---------------------------------------------------------------------------\u001b[0m",
            "\u001b[0;31mTypeError\u001b[0m                                 Traceback (most recent call last)",
            "Cell \u001b[0;32mIn[8], line 1\u001b[0m\n\u001b[0;32m----> 1\u001b[0m \u001b[43m[\u001b[49m\u001b[38;5;241;43m1\u001b[39;49m\u001b[43m,\u001b[49m\u001b[43m \u001b[49m\u001b[38;5;241;43m2\u001b[39;49m\u001b[43m,\u001b[49m\u001b[43m \u001b[49m\u001b[38;5;241;43m3\u001b[39;49m\u001b[43m,\u001b[49m\u001b[43m \u001b[49m\u001b[38;5;241;43m4\u001b[39;49m\u001b[43m]\u001b[49m\u001b[43m \u001b[49m\u001b[38;5;241;43m>\u001b[39;49m\u001b[43m \u001b[49m\u001b[38;5;241;43m2\u001b[39;49m\n",
            "\u001b[0;31mTypeError\u001b[0m: '>' not supported between instances of 'list' and 'int'"
          ],
          "ename": "TypeError",
          "evalue": "'>' not supported between instances of 'list' and 'int'",
          "output_type": "error"
        }
      ]
    },
    {
      "cell_type": "markdown",
      "source": [
        "R and Python have some libraries (like numpy and pandas) compare each element of the list to 2 (i.e. do an 'element-wise' comparison) and give us a list of booleans like `[False, False, True, True]`.\n",
        "\n",
        "Implement a function that reproduces this behaviour, returning a list of booleans corresponding to whether the corresponding element is greater than n."
      ],
      "metadata": {
        "id": "LK8BQsvwTpwl"
      }
    },
    {
      "cell_type": "code",
      "source": [
        "def elementwise_greater_than(L, thresh):\n",
        "    \"\"\"Return a list with the same length as L, where the value at index i is\n",
        "    True if L[i] is greater than thresh, and False otherwise.\n",
        "\n",
        "    >>> elementwise_greater_than([1, 2, 3, 4], 2)\n",
        "    [False, False, True, True]\n",
        "    \"\"\"\n",
        "    return [ele > thresh for ele in L]\n",
        "\n",
        "# Check your answer\n",
        "q2.check()"
      ],
      "metadata": {
        "execution": {
          "iopub.status.busy": "2024-05-25T05:42:26.512608Z",
          "iopub.execute_input": "2024-05-25T05:42:26.513168Z",
          "iopub.status.idle": "2024-05-25T05:42:26.527314Z",
          "shell.execute_reply.started": "2024-05-25T05:42:26.513127Z",
          "shell.execute_reply": "2024-05-25T05:42:26.526049Z"
        },
        "trusted": true,
        "id": "szrN_PSKTpwl",
        "outputId": "5bc7aef6-6291-4905-c1a2-8d1701306ac0"
      },
      "execution_count": null,
      "outputs": [
        {
          "output_type": "display_data",
          "data": {
            "text/plain": "<IPython.core.display.Javascript object>",
            "application/javascript": "parent.postMessage({\"jupyterEvent\": \"custom.exercise_interaction\", \"data\": {\"outcomeType\": 1, \"valueTowardsCompletion\": 0.25, \"interactionType\": 1, \"questionType\": 2, \"questionId\": \"2_ElementWiseComparison\", \"learnToolsVersion\": \"0.3.4\", \"failureMessage\": \"\", \"exceptionClass\": \"\", \"trace\": \"\"}}, \"*\")"
          },
          "metadata": {}
        },
        {
          "output_type": "display_data",
          "data": {
            "text/plain": "Correct: \n\nHere's one solution:\n```python\ndef elementwise_greater_than(L, thresh):\n    res = []\n    for ele in L:\n        res.append(ele > thresh)\n    return res\n```\n\nAnd here's the list comprehension version:\n```python\ndef elementwise_greater_than(L, thresh):\n    return [ele > thresh for ele in L]\n```",
            "text/markdown": "<span style=\"color:#33cc33\">Correct:</span> \n\nHere's one solution:\n```python\ndef elementwise_greater_than(L, thresh):\n    res = []\n    for ele in L:\n        res.append(ele > thresh)\n    return res\n```\n\nAnd here's the list comprehension version:\n```python\ndef elementwise_greater_than(L, thresh):\n    return [ele > thresh for ele in L]\n```\n"
          },
          "metadata": {}
        }
      ]
    },
    {
      "cell_type": "code",
      "source": [
        "q2.solution()"
      ],
      "metadata": {
        "execution": {
          "iopub.status.busy": "2024-05-25T05:41:05.798304Z",
          "iopub.execute_input": "2024-05-25T05:41:05.798728Z",
          "iopub.status.idle": "2024-05-25T05:41:05.809032Z",
          "shell.execute_reply.started": "2024-05-25T05:41:05.798694Z",
          "shell.execute_reply": "2024-05-25T05:41:05.807493Z"
        },
        "trusted": true,
        "id": "BAH0lk4YTpwm",
        "outputId": "13371ffe-d75a-4095-e0ec-0160c3523d3e"
      },
      "execution_count": null,
      "outputs": [
        {
          "output_type": "display_data",
          "data": {
            "text/plain": "<IPython.core.display.Javascript object>",
            "application/javascript": "parent.postMessage({\"jupyterEvent\": \"custom.exercise_interaction\", \"data\": {\"interactionType\": 3, \"questionType\": 2, \"questionId\": \"2_ElementWiseComparison\", \"learnToolsVersion\": \"0.3.4\", \"valueTowardsCompletion\": 0.0, \"failureMessage\": \"\", \"exceptionClass\": \"\", \"trace\": \"\", \"outcomeType\": 4}}, \"*\")"
          },
          "metadata": {}
        },
        {
          "output_type": "display_data",
          "data": {
            "text/plain": "Solution: Here's one solution:\n```python\ndef elementwise_greater_than(L, thresh):\n    res = []\n    for ele in L:\n        res.append(ele > thresh)\n    return res\n```\n\nAnd here's the list comprehension version:\n```python\ndef elementwise_greater_than(L, thresh):\n    return [ele > thresh for ele in L]\n```",
            "text/markdown": "<span style=\"color:#33cc99\">Solution:</span> Here's one solution:\n```python\ndef elementwise_greater_than(L, thresh):\n    res = []\n    for ele in L:\n        res.append(ele > thresh)\n    return res\n```\n\nAnd here's the list comprehension version:\n```python\ndef elementwise_greater_than(L, thresh):\n    return [ele > thresh for ele in L]\n```\n"
          },
          "metadata": {}
        }
      ]
    },
    {
      "cell_type": "markdown",
      "source": [
        "# 3.\n",
        "\n",
        "Complete the body of the function below according to its docstring."
      ],
      "metadata": {
        "id": "ZkF8utDtTpwm"
      }
    },
    {
      "cell_type": "code",
      "source": [
        "def menu_is_boring(meals):\n",
        "    \"\"\"Given a list of meals served over some period of time, return True if the\n",
        "    same meal has ever been served two days in a row, and False otherwise.\n",
        "    \"\"\"\n",
        "    for i in range (len(meals)-1):\n",
        "        if meals[i]==meals[i+1]:\n",
        "            return True\n",
        "    return False\n",
        "\n",
        "# Check your answer\n",
        "q3.check()"
      ],
      "metadata": {
        "execution": {
          "iopub.status.busy": "2024-05-25T05:47:43.449925Z",
          "iopub.execute_input": "2024-05-25T05:47:43.451069Z",
          "iopub.status.idle": "2024-05-25T05:47:43.463691Z",
          "shell.execute_reply.started": "2024-05-25T05:47:43.451027Z",
          "shell.execute_reply": "2024-05-25T05:47:43.462456Z"
        },
        "trusted": true,
        "id": "V5te_noZTpwm",
        "outputId": "83015496-7de8-446e-a6c6-a4bc34c19aff"
      },
      "execution_count": null,
      "outputs": [
        {
          "output_type": "display_data",
          "data": {
            "text/plain": "<IPython.core.display.Javascript object>",
            "application/javascript": "parent.postMessage({\"jupyterEvent\": \"custom.exercise_interaction\", \"data\": {\"outcomeType\": 1, \"valueTowardsCompletion\": 0.25, \"interactionType\": 1, \"questionType\": 2, \"questionId\": \"3_BoringMenu\", \"learnToolsVersion\": \"0.3.4\", \"failureMessage\": \"\", \"exceptionClass\": \"\", \"trace\": \"\"}}, \"*\")"
          },
          "metadata": {}
        },
        {
          "output_type": "display_data",
          "data": {
            "text/plain": "Correct: \n\n\n\n```python\ndef menu_is_boring(meals):\n    # Iterate over all indices of the list, except the last one\n    for i in range(len(meals)-1):\n        if meals[i] == meals[i+1]:\n            return True\n    return False\n```\n\nThe key to our solution is the call to `range`. `range(len(meals))` would give us all the indices of `meals`. If we had used that range, the last iteration of the loop would be comparing the last element to the element after it, which is... `IndexError`! `range(len(meals)-1)` gives us all the indices except the index of the last element.\n\nBut don't we need to check if `meals` is empty? Turns out that `range(0) == range(-1)` - they're both empty. So if `meals` has length 0 or 1, we just won't do any iterations of our for loop.",
            "text/markdown": "<span style=\"color:#33cc33\">Correct:</span> \n\n\n\n```python\ndef menu_is_boring(meals):\n    # Iterate over all indices of the list, except the last one\n    for i in range(len(meals)-1):\n        if meals[i] == meals[i+1]:\n            return True\n    return False\n```\n\nThe key to our solution is the call to `range`. `range(len(meals))` would give us all the indices of `meals`. If we had used that range, the last iteration of the loop would be comparing the last element to the element after it, which is... `IndexError`! `range(len(meals)-1)` gives us all the indices except the index of the last element.\n\nBut don't we need to check if `meals` is empty? Turns out that `range(0) == range(-1)` - they're both empty. So if `meals` has length 0 or 1, we just won't do any iterations of our for loop.\n"
          },
          "metadata": {}
        }
      ]
    },
    {
      "cell_type": "code",
      "source": [
        "q3.hint()\n",
        "q3.solution()"
      ],
      "metadata": {
        "execution": {
          "iopub.status.busy": "2024-05-25T05:44:54.879424Z",
          "iopub.execute_input": "2024-05-25T05:44:54.879832Z",
          "iopub.status.idle": "2024-05-25T05:44:54.895358Z",
          "shell.execute_reply.started": "2024-05-25T05:44:54.879798Z",
          "shell.execute_reply": "2024-05-25T05:44:54.89389Z"
        },
        "trusted": true,
        "id": "AyVkXpFJTpwn",
        "outputId": "aa1d936f-7f83-4e0d-ba22-c21cc2281140"
      },
      "execution_count": null,
      "outputs": [
        {
          "output_type": "display_data",
          "data": {
            "text/plain": "<IPython.core.display.Javascript object>",
            "application/javascript": "parent.postMessage({\"jupyterEvent\": \"custom.exercise_interaction\", \"data\": {\"interactionType\": 2, \"questionType\": 2, \"questionId\": \"3_BoringMenu\", \"learnToolsVersion\": \"0.3.4\", \"valueTowardsCompletion\": 0.0, \"failureMessage\": \"\", \"exceptionClass\": \"\", \"trace\": \"\", \"outcomeType\": 4}}, \"*\")"
          },
          "metadata": {}
        },
        {
          "output_type": "display_data",
          "data": {
            "text/plain": "Hint: This is a case where it may be preferable to iterate over the *indices* of the list (using a call to `range()`) rather than iterating over the elements of the list itself. When indexing into the list, be mindful that you're not \"falling off the end\" (i.e. using an index that doesn't exist).",
            "text/markdown": "<span style=\"color:#3366cc\">Hint:</span> This is a case where it may be preferable to iterate over the *indices* of the list (using a call to `range()`) rather than iterating over the elements of the list itself. When indexing into the list, be mindful that you're not \"falling off the end\" (i.e. using an index that doesn't exist)."
          },
          "metadata": {}
        },
        {
          "output_type": "display_data",
          "data": {
            "text/plain": "<IPython.core.display.Javascript object>",
            "application/javascript": "parent.postMessage({\"jupyterEvent\": \"custom.exercise_interaction\", \"data\": {\"interactionType\": 3, \"questionType\": 2, \"questionId\": \"3_BoringMenu\", \"learnToolsVersion\": \"0.3.4\", \"valueTowardsCompletion\": 0.0, \"failureMessage\": \"\", \"exceptionClass\": \"\", \"trace\": \"\", \"outcomeType\": 4}}, \"*\")"
          },
          "metadata": {}
        },
        {
          "output_type": "display_data",
          "data": {
            "text/plain": "Solution: \n\n```python\ndef menu_is_boring(meals):\n    # Iterate over all indices of the list, except the last one\n    for i in range(len(meals)-1):\n        if meals[i] == meals[i+1]:\n            return True\n    return False\n```\n\nThe key to our solution is the call to `range`. `range(len(meals))` would give us all the indices of `meals`. If we had used that range, the last iteration of the loop would be comparing the last element to the element after it, which is... `IndexError`! `range(len(meals)-1)` gives us all the indices except the index of the last element.\n\nBut don't we need to check if `meals` is empty? Turns out that `range(0) == range(-1)` - they're both empty. So if `meals` has length 0 or 1, we just won't do any iterations of our for loop.",
            "text/markdown": "<span style=\"color:#33cc99\">Solution:</span> \n\n```python\ndef menu_is_boring(meals):\n    # Iterate over all indices of the list, except the last one\n    for i in range(len(meals)-1):\n        if meals[i] == meals[i+1]:\n            return True\n    return False\n```\n\nThe key to our solution is the call to `range`. `range(len(meals))` would give us all the indices of `meals`. If we had used that range, the last iteration of the loop would be comparing the last element to the element after it, which is... `IndexError`! `range(len(meals)-1)` gives us all the indices except the index of the last element.\n\nBut don't we need to check if `meals` is empty? Turns out that `range(0) == range(-1)` - they're both empty. So if `meals` has length 0 or 1, we just won't do any iterations of our for loop.\n"
          },
          "metadata": {}
        }
      ]
    },
    {
      "cell_type": "markdown",
      "source": [
        "# 4. <span title=\"A bit spicy\" style=\"color: darkgreen \">🌶️</span>\n",
        "\n",
        "Next to the Blackjack table, the Python Challenge Casino has a slot machine. You can get a result from the slot machine by calling `play_slot_machine()`. The number it returns is your winnings in dollars. Usually it returns 0.  But sometimes you'll get lucky and get a big payday. Try running it below:"
      ],
      "metadata": {
        "id": "-sUB5ftaTpwn"
      }
    },
    {
      "cell_type": "code",
      "source": [
        "play_slot_machine()"
      ],
      "metadata": {
        "execution": {
          "iopub.status.busy": "2024-05-25T05:48:51.361957Z",
          "iopub.execute_input": "2024-05-25T05:48:51.362364Z",
          "iopub.status.idle": "2024-05-25T05:48:51.370429Z",
          "shell.execute_reply.started": "2024-05-25T05:48:51.362332Z",
          "shell.execute_reply": "2024-05-25T05:48:51.369179Z"
        },
        "trusted": true,
        "id": "OChJzo-pTpwo",
        "outputId": "bba96c54-34fd-4e72-c628-4f58827cc355"
      },
      "execution_count": null,
      "outputs": [
        {
          "execution_count": 21,
          "output_type": "execute_result",
          "data": {
            "text/plain": "0"
          },
          "metadata": {}
        }
      ]
    },
    {
      "cell_type": "markdown",
      "source": [
        "By the way, did we mention that each play costs $1? Don't worry, we'll send you the bill later.\n",
        "\n",
        "On average, how much money can you expect to gain (or lose) every time you play the machine?  The casino keeps it a secret, but you can estimate the average value of each pull using a technique called the **Monte Carlo method**. To estimate the average outcome, we simulate the scenario many times, and return the average result.\n",
        "\n",
        "Complete the following function to calculate the average value per play of the slot machine."
      ],
      "metadata": {
        "id": "4V6HoRyfTpwo"
      }
    },
    {
      "cell_type": "code",
      "source": [
        "def estimate_average_slot_payout(n_runs):\n",
        "    \"\"\"Run the slot machine n_runs times and return the average net profit per run.\n",
        "    Example calls (note that return value is nondeterministic!):\n",
        "    >>> estimate_average_slot_payout(1)\n",
        "    -1\n",
        "    >>> estimate_average_slot_payout(1)\n",
        "    0.5\n",
        "    \"\"\"\n",
        "    payouts= [play_slot_machine()-1 for i in range(n_runs)]\n",
        "    avg_payout = sum(payouts)/n_runs\n",
        "    pass"
      ],
      "metadata": {
        "execution": {
          "iopub.status.busy": "2024-05-25T05:51:59.447278Z",
          "iopub.execute_input": "2024-05-25T05:51:59.447704Z",
          "iopub.status.idle": "2024-05-25T05:51:59.455647Z",
          "shell.execute_reply.started": "2024-05-25T05:51:59.447668Z",
          "shell.execute_reply": "2024-05-25T05:51:59.453492Z"
        },
        "trusted": true,
        "id": "xbjDz-FgTpwp"
      },
      "execution_count": null,
      "outputs": []
    },
    {
      "cell_type": "markdown",
      "source": [
        "When you think you know the expected value per spin, run the code cell below to view the solution and get credit for answering the question."
      ],
      "metadata": {
        "id": "3FhOJdDPTpwp"
      }
    },
    {
      "cell_type": "code",
      "source": [
        "# Check your answer (Run this code cell to receive credit!)\n",
        "q4.solution()"
      ],
      "metadata": {
        "execution": {
          "iopub.status.busy": "2024-05-25T05:49:39.319146Z",
          "iopub.execute_input": "2024-05-25T05:49:39.319557Z",
          "iopub.status.idle": "2024-05-25T05:49:39.329353Z",
          "shell.execute_reply.started": "2024-05-25T05:49:39.319523Z",
          "shell.execute_reply": "2024-05-25T05:49:39.328113Z"
        },
        "trusted": true,
        "id": "ceLwg9d3Tpwp",
        "outputId": "58c1a36a-1f80-4e80-c110-cf0666a1736b"
      },
      "execution_count": null,
      "outputs": [
        {
          "output_type": "display_data",
          "data": {
            "text/plain": "<IPython.core.display.Javascript object>",
            "application/javascript": "parent.postMessage({\"jupyterEvent\": \"custom.exercise_interaction\", \"data\": {\"interactionType\": 3, \"questionType\": 4, \"questionId\": \"4_ExpectedSlotsPayout\", \"learnToolsVersion\": \"0.3.4\", \"valueTowardsCompletion\": 0.0, \"failureMessage\": \"\", \"exceptionClass\": \"\", \"trace\": \"\", \"outcomeType\": 4}}, \"*\")"
          },
          "metadata": {}
        },
        {
          "output_type": "display_data",
          "data": {
            "text/plain": "Solution: \n    \nThe exact expected value of one pull of the slot machine is 0.025 - i.e. a little more than 2 cents.  See?  Not every game in the Python Challenge Casino is rigged against the player!\n\nIn order to get this answer, you'll need to implement the `estimate_average_slot_payout(n_runs)` function to simulate pulling the slot machine `n_runs` times.  It should return the payout averaged over those `n_runs`.\n\nThen, once the function is defined, in order to estimate the average slot payout, we need only call the function.\n\nBecause of the high variance of the outcome (there are some very rare high payout results that significantly affect the average) you might need to run your function with a very high value of `n_runs` to get a stable answer close to the true expectation.  For instance, you might use a value for `n_runs` of 1000000.\n\nHere's an example for how the function could look:\n```python\ndef estimate_average_slot_payout(n_runs):\n    # Play slot machine n_runs times, calculate payout of each\n    payouts = [play_slot_machine()-1 for i in range(n_runs)]\n    # Calculate the average value\n    avg_payout = sum(payouts) / n_runs\n    return avg_payout\n    \nestimate_average_slot_payout(10000000)\n\n```\n\nThis should return an answer close to 0.025!\n            ",
            "text/markdown": "<span style=\"color:#33cc99\">Solution:</span> \n    \nThe exact expected value of one pull of the slot machine is 0.025 - i.e. a little more than 2 cents.  See?  Not every game in the Python Challenge Casino is rigged against the player!\n\nIn order to get this answer, you'll need to implement the `estimate_average_slot_payout(n_runs)` function to simulate pulling the slot machine `n_runs` times.  It should return the payout averaged over those `n_runs`.\n\nThen, once the function is defined, in order to estimate the average slot payout, we need only call the function.\n\nBecause of the high variance of the outcome (there are some very rare high payout results that significantly affect the average) you might need to run your function with a very high value of `n_runs` to get a stable answer close to the true expectation.  For instance, you might use a value for `n_runs` of 1000000.\n\nHere's an example for how the function could look:\n```python\ndef estimate_average_slot_payout(n_runs):\n    # Play slot machine n_runs times, calculate payout of each\n    payouts = [play_slot_machine()-1 for i in range(n_runs)]\n    # Calculate the average value\n    avg_payout = sum(payouts) / n_runs\n    return avg_payout\n    \nestimate_average_slot_payout(10000000)\n\n```\n\nThis should return an answer close to 0.025!\n            \n"
          },
          "metadata": {}
        }
      ]
    },
    {
      "cell_type": "markdown",
      "source": [
        "# Keep Going\n",
        "\n",
        "Many programmers report that dictionaries are their favorite data structure. You'll get to **[learn about them](https://www.kaggle.com/colinmorris/strings-and-dictionaries)** (as well as strings) in the next lesson."
      ],
      "metadata": {
        "id": "CxXBKPKdTpwp"
      }
    },
    {
      "cell_type": "markdown",
      "source": [
        "---\n",
        "\n",
        "\n",
        "\n",
        "\n",
        "*Have questions or comments? Visit the [course discussion forum](https://www.kaggle.com/learn/python/discussion) to chat with other learners.*"
      ],
      "metadata": {
        "id": "PFqYgCJVTpwq"
      }
    }
  ]
}