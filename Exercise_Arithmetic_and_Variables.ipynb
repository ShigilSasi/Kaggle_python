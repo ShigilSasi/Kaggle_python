{
  "metadata": {
    "kernelspec": {
      "display_name": "Python 3",
      "language": "python",
      "name": "python3"
    },
    "language_info": {
      "name": "python",
      "version": "3.10.13",
      "mimetype": "text/x-python",
      "codemirror_mode": {
        "name": "ipython",
        "version": 3
      },
      "pygments_lexer": "ipython3",
      "nbconvert_exporter": "python",
      "file_extension": ".py"
    },
    "kaggle": {
      "accelerator": "none",
      "dataSources": [
        {
          "sourceId": 3136,
          "databundleVersionId": 26502,
          "sourceType": "competition"
        }
      ],
      "isInternetEnabled": false,
      "language": "python",
      "sourceType": "notebook",
      "isGpuEnabled": false
    },
    "colab": {
      "name": "Exercise: Arithmetic and Variables",
      "provenance": []
    }
  },
  "nbformat_minor": 0,
  "nbformat": 4,
  "cells": [
    {
      "source": [
        "\n",
        "# IMPORTANT: RUN THIS CELL IN ORDER TO IMPORT YOUR KAGGLE DATA SOURCES\n",
        "# TO THE CORRECT LOCATION (/kaggle/input) IN YOUR NOTEBOOK,\n",
        "# THEN FEEL FREE TO DELETE THIS CELL.\n",
        "# NOTE: THIS NOTEBOOK ENVIRONMENT DIFFERS FROM KAGGLE'S PYTHON\n",
        "# ENVIRONMENT SO THERE MAY BE MISSING LIBRARIES USED BY YOUR\n",
        "# NOTEBOOK.\n",
        "\n",
        "import os\n",
        "import sys\n",
        "from tempfile import NamedTemporaryFile\n",
        "from urllib.request import urlopen\n",
        "from urllib.parse import unquote, urlparse\n",
        "from urllib.error import HTTPError\n",
        "from zipfile import ZipFile\n",
        "import tarfile\n",
        "import shutil\n",
        "\n",
        "CHUNK_SIZE = 40960\n",
        "DATA_SOURCE_MAPPING = 'titanic:https%3A%2F%2Fstorage.googleapis.com%2Fkaggle-competitions-data%2Fkaggle-v2%2F3136%2F26502%2Fbundle%2Farchive.zip%3FX-Goog-Algorithm%3DGOOG4-RSA-SHA256%26X-Goog-Credential%3Dgcp-kaggle-com%2540kaggle-161607.iam.gserviceaccount.com%252F20240521%252Fauto%252Fstorage%252Fgoog4_request%26X-Goog-Date%3D20240521T061900Z%26X-Goog-Expires%3D259200%26X-Goog-SignedHeaders%3Dhost%26X-Goog-Signature%3D885c0beca9ca960934e55139a60e4dabc6e7bca1c61111de3846abceec0643e28ce011d61e3aebf094ad5f442b81c51a487cf39e4a25707ed7884dec3deb0f974cb049ab868143a22b2ce52180148c0c974a5c9d2593bba88124a9346e650e415432a5adc50418b158991d8513c8e0c5118b687e8702c6d021dee362278918c6b26088c2c309aaf46f4a4925c40730d06e2beb26b481235c9b842c8c16a7ec88d276c98e2e9157e5cc96a937407b5f7a665cae5faccd63efd82fb8818234c2f80c9c572c43b5fd74bbbab3394ecf986c2ca1cf175197e0e663c0776bd3b0707ee0cea66261165c2805631e9350b45c13e6ffbdcac3d92d85cc6d7b886718807d'\n",
        "\n",
        "KAGGLE_INPUT_PATH='/kaggle/input'\n",
        "KAGGLE_WORKING_PATH='/kaggle/working'\n",
        "KAGGLE_SYMLINK='kaggle'\n",
        "\n",
        "!umount /kaggle/input/ 2> /dev/null\n",
        "shutil.rmtree('/kaggle/input', ignore_errors=True)\n",
        "os.makedirs(KAGGLE_INPUT_PATH, 0o777, exist_ok=True)\n",
        "os.makedirs(KAGGLE_WORKING_PATH, 0o777, exist_ok=True)\n",
        "\n",
        "try:\n",
        "  os.symlink(KAGGLE_INPUT_PATH, os.path.join(\"..\", 'input'), target_is_directory=True)\n",
        "except FileExistsError:\n",
        "  pass\n",
        "try:\n",
        "  os.symlink(KAGGLE_WORKING_PATH, os.path.join(\"..\", 'working'), target_is_directory=True)\n",
        "except FileExistsError:\n",
        "  pass\n",
        "\n",
        "for data_source_mapping in DATA_SOURCE_MAPPING.split(','):\n",
        "    directory, download_url_encoded = data_source_mapping.split(':')\n",
        "    download_url = unquote(download_url_encoded)\n",
        "    filename = urlparse(download_url).path\n",
        "    destination_path = os.path.join(KAGGLE_INPUT_PATH, directory)\n",
        "    try:\n",
        "        with urlopen(download_url) as fileres, NamedTemporaryFile() as tfile:\n",
        "            total_length = fileres.headers['content-length']\n",
        "            print(f'Downloading {directory}, {total_length} bytes compressed')\n",
        "            dl = 0\n",
        "            data = fileres.read(CHUNK_SIZE)\n",
        "            while len(data) > 0:\n",
        "                dl += len(data)\n",
        "                tfile.write(data)\n",
        "                done = int(50 * dl / int(total_length))\n",
        "                sys.stdout.write(f\"\\r[{'=' * done}{' ' * (50-done)}] {dl} bytes downloaded\")\n",
        "                sys.stdout.flush()\n",
        "                data = fileres.read(CHUNK_SIZE)\n",
        "            if filename.endswith('.zip'):\n",
        "              with ZipFile(tfile) as zfile:\n",
        "                zfile.extractall(destination_path)\n",
        "            else:\n",
        "              with tarfile.open(tfile.name) as tarfile:\n",
        "                tarfile.extractall(destination_path)\n",
        "            print(f'\\nDownloaded and uncompressed: {directory}')\n",
        "    except HTTPError as e:\n",
        "        print(f'Failed to load (likely expired) {download_url} to path {destination_path}')\n",
        "        continue\n",
        "    except OSError as e:\n",
        "        print(f'Failed to load {download_url} to path {destination_path}')\n",
        "        continue\n",
        "\n",
        "print('Data source import complete.')\n"
      ],
      "metadata": {
        "id": "Fz9yA-YVzaZN"
      },
      "cell_type": "code",
      "outputs": [],
      "execution_count": null
    },
    {
      "cell_type": "markdown",
      "source": [
        "**This notebook is an exercise in the [Intro to Programming](https://www.kaggle.com/learn/intro-to-programming) course.  You can reference the tutorial at [this link](https://www.kaggle.com/alexisbcook/arithmetic-and-variables).**\n",
        "\n",
        "---\n"
      ],
      "metadata": {
        "id": "6e51we01zaZR"
      }
    },
    {
      "cell_type": "markdown",
      "source": [
        "This exercise will get you started with running your own code.  \n",
        "\n",
        "# Set up the notebook\n",
        "\n",
        "To begin, run the code in the next cell.\n",
        "- Begin by clicking inside the code cell.  \n",
        "- Click on the triangle (in the shape of a \"Play button\") that appears to the left of the code cell.\n",
        "- If your code was run sucessfully, you will see `Setup Complete` as output below the cell.\n",
        "\n",
        "Instead of clicking on the triangle, you can also run code by pressing Shift + Enter on your keyboard.  Try this now!  Nothing bad will happen if you run the code more than once."
      ],
      "metadata": {
        "id": "YXCUqsnMzaZT"
      }
    },
    {
      "cell_type": "code",
      "source": [],
      "metadata": {
        "id": "widrKDHtzaZT"
      },
      "execution_count": null,
      "outputs": []
    },
    {
      "cell_type": "code",
      "source": [
        "# Set up the exercise\n",
        "from learntools.core import binder\n",
        "binder.bind(globals())\n",
        "from learntools.intro_to_programming.ex1 import *\n",
        "print('Setup complete.')"
      ],
      "metadata": {
        "execution": {
          "iopub.status.busy": "2024-05-21T06:14:13.406968Z",
          "iopub.execute_input": "2024-05-21T06:14:13.407337Z",
          "iopub.status.idle": "2024-05-21T06:14:13.453799Z",
          "shell.execute_reply.started": "2024-05-21T06:14:13.407308Z",
          "shell.execute_reply": "2024-05-21T06:14:13.452484Z"
        },
        "trusted": true,
        "id": "vV9KC_JLzaZT"
      },
      "execution_count": null,
      "outputs": []
    },
    {
      "cell_type": "markdown",
      "source": [
        "The code above sets up the notebook so that it can check your answers in this exercise.  You should never modify this code.  (Otherwise, the notebook won't be able to verify that you have successfully completed the exercise.)\n",
        "\n",
        "After finishing all of the questions below, you'll see the exercise marked as complete on the [course page](http://www.kaggle.com/learn/intro-to-programming).  Once you complete all of the lessons, you'll get a course completion certificate!\n",
        "\n",
        "# Question 1\n",
        "\n",
        "Next, you will run some code from the tutorial, so you can see how it works for yourself.  Run the next code cell without changes."
      ],
      "metadata": {
        "id": "gFf6s4wrzaZU"
      }
    },
    {
      "cell_type": "code",
      "source": [
        "print(\"Hello, world!\")\n",
        "\n",
        "# DO NOT REMOVE: Mark this question as completed\n",
        "q1.check()"
      ],
      "metadata": {
        "execution": {
          "iopub.status.busy": "2024-05-21T06:14:20.0996Z",
          "iopub.execute_input": "2024-05-21T06:14:20.100336Z",
          "iopub.status.idle": "2024-05-21T06:14:20.111009Z",
          "shell.execute_reply.started": "2024-05-21T06:14:20.1003Z",
          "shell.execute_reply": "2024-05-21T06:14:20.109748Z"
        },
        "trusted": true,
        "id": "9KjJDbLJzaZU"
      },
      "execution_count": null,
      "outputs": []
    },
    {
      "cell_type": "code",
      "source": [
        "print(\"Hello, World!\")"
      ],
      "metadata": {
        "execution": {
          "iopub.status.busy": "2024-05-21T06:00:57.286638Z",
          "iopub.execute_input": "2024-05-21T06:00:57.28707Z",
          "iopub.status.idle": "2024-05-21T06:00:57.338192Z",
          "shell.execute_reply.started": "2024-05-21T06:00:57.287036Z",
          "shell.execute_reply": "2024-05-21T06:00:57.336939Z"
        },
        "trusted": true,
        "id": "znw914QvzaZV"
      },
      "execution_count": null,
      "outputs": []
    },
    {
      "cell_type": "markdown",
      "source": [
        "You just ran code to print `Hello world!`, which you should see in the output above.\n",
        "\n",
        "The second line of code (`q1.check()`) checks your answer.  You should never modify this checking code; if you remove it, you won't get credit for completing the problem.\n",
        "\n",
        "# Question 2\n",
        "\n",
        "Now, you will print another message of your choosing.  To do this, change `print(\"Your message here!\")` to use a different message.  For instance, you might like to change it to something like:\n",
        "- `print(\"Good morning!\")`\n",
        "- `print(\"I am learning how to code :D\")`\n",
        "\n",
        "Or, you might like to see what happens if you write something like `print(\"3+4\")`.  Does it return 7, or does it just think of `\"3+4\"` as just another message?\n",
        "\n",
        "Make sure that your message is enclosed in quotation marks (`\"`), and the message itself does not use quotation marks. For instance, this will throw an error: `print(\"She said \"great job\" and gave me a high-five!\")` because the message contains quotation marks.  If you decide to take the Python course after completing this course, you will learn more about how to avoid this error in [Lesson 6](https://www.kaggle.com/colinmorris/strings-and-dictionaries).\n",
        "\n",
        "Feel free to try out multiple messages!"
      ],
      "metadata": {
        "id": "qtHoj6KQzaZV"
      }
    },
    {
      "cell_type": "code",
      "source": [
        "# TODO: Change the message\n",
        "print(\"Your message here!\")\n",
        "\n",
        "# DO NOT REMOVE: Mark this question as completed\n",
        "q2.check()"
      ],
      "metadata": {
        "execution": {
          "iopub.status.busy": "2024-05-21T06:14:28.268876Z",
          "iopub.execute_input": "2024-05-21T06:14:28.2693Z",
          "iopub.status.idle": "2024-05-21T06:14:28.280668Z",
          "shell.execute_reply.started": "2024-05-21T06:14:28.269266Z",
          "shell.execute_reply": "2024-05-21T06:14:28.279731Z"
        },
        "trusted": true,
        "id": "oYlh4cmyzaZV"
      },
      "execution_count": null,
      "outputs": []
    },
    {
      "cell_type": "code",
      "source": [
        "print(\"Your message is here!\")"
      ],
      "metadata": {
        "execution": {
          "iopub.status.busy": "2024-05-21T06:02:37.465458Z",
          "iopub.execute_input": "2024-05-21T06:02:37.465892Z",
          "iopub.status.idle": "2024-05-21T06:02:37.47222Z",
          "shell.execute_reply.started": "2024-05-21T06:02:37.46586Z",
          "shell.execute_reply": "2024-05-21T06:02:37.470786Z"
        },
        "trusted": true,
        "id": "wiQJevtHzaZW"
      },
      "execution_count": null,
      "outputs": []
    },
    {
      "cell_type": "markdown",
      "source": [
        "# Question 3\n",
        "\n",
        "As you learned in the tutorial, a comment in Python has a pound sign (`#`) in front of it, which tells Python to ignore the text after it.\n",
        "\n",
        "Putting a pound sign in front of a line of code will make Python ignore that code.  For instance, this line would be ignored by Python, and nothing would appear in the output:\n",
        "```python\n",
        "#print(1+2)\n",
        "```\n",
        "Removing the pound sign will make it so that you can run the code again. When we remove the pound sign in front of a line of code, we call this **uncommenting**.\n",
        "\n",
        "In this problem, you will uncomment two lines in the code cell below and view the output:\n",
        "- Remove the `#` in front of `q3.hint()`.  To avoid errors, do NOT remove the `#` in front of `# Uncomment to view hint`.  \n",
        "- Next, remove the `#` in front of `q3.solution()`.\n",
        "\n",
        "As in the previous questions, do not change the final line of code that marks your work as completed."
      ],
      "metadata": {
        "id": "SUz-haxFzaZW"
      }
    },
    {
      "cell_type": "code",
      "source": [
        "# Uncomment to get a hint\n",
        "#q3.hint()\n",
        "\n",
        "# Uncomment to view solution\n",
        "#q3.solution()\n",
        "\n",
        "# DO NOT REMOVE: Check your answer\n",
        "q3.check()"
      ],
      "metadata": {
        "execution": {
          "iopub.status.busy": "2024-05-21T06:15:49.163392Z",
          "iopub.execute_input": "2024-05-21T06:15:49.163819Z",
          "iopub.status.idle": "2024-05-21T06:15:49.175499Z",
          "shell.execute_reply.started": "2024-05-21T06:15:49.163784Z",
          "shell.execute_reply": "2024-05-21T06:15:49.17376Z"
        },
        "trusted": true,
        "id": "M_5zIoASzaZW"
      },
      "execution_count": null,
      "outputs": []
    },
    {
      "cell_type": "markdown",
      "source": [
        "In the next question, and in most of the exercises in this course, you will have the option to uncomment to view hints and solutions.  Once you feel comfortable with uncommenting, continue to the next question.\n"
      ],
      "metadata": {
        "id": "K6h1kj5CzaZW"
      }
    },
    {
      "cell_type": "code",
      "source": [],
      "metadata": {
        "id": "3n5xvBVdzaZX"
      },
      "execution_count": null,
      "outputs": []
    },
    {
      "cell_type": "markdown",
      "source": [
        "# Question 4\n",
        "\n",
        "In the tutorial, you defined several variables to calculate the total number of seconds in a year.  Run the next code cell to do the calculation here."
      ],
      "metadata": {
        "id": "YZA5Y_S5zaZX"
      }
    },
    {
      "cell_type": "code",
      "source": [
        "# Create variables\n",
        "num_years = 4\n",
        "days_per_year = 365\n",
        "hours_per_day = 24\n",
        "mins_per_hour = 60\n",
        "secs_per_min = 60\n",
        "\n",
        "# Calculate number of seconds in four years\n",
        "total_secs = secs_per_min * mins_per_hour * hours_per_day * days_per_year * num_years\n",
        "print(total_secs)"
      ],
      "metadata": {
        "execution": {
          "iopub.status.busy": "2024-05-21T06:15:57.346903Z",
          "iopub.execute_input": "2024-05-21T06:15:57.347271Z",
          "iopub.status.idle": "2024-05-21T06:15:57.354082Z",
          "shell.execute_reply.started": "2024-05-21T06:15:57.347242Z",
          "shell.execute_reply": "2024-05-21T06:15:57.352772Z"
        },
        "trusted": true,
        "id": "6Sz9_HQZzaZX"
      },
      "execution_count": null,
      "outputs": []
    },
    {
      "cell_type": "markdown",
      "source": [
        "Use the next code cell to:\n",
        "- Define a variable `births_per_min` and set it to 250.  (There are on average 250 babies born each minute.)\n",
        "- Define a variable `births_per_day` that contains the average number of babies born each day.  (To set the value of this variable, you should use `births_per_min` and some of the variables from the previous code cell.)\n",
        "\n",
        "Remember you can always get a hint if you need it!"
      ],
      "metadata": {
        "id": "I169tse0zaZX"
      }
    },
    {
      "cell_type": "code",
      "source": [
        "# TODO: Set the value of the births_per_min variable\n",
        "births_per_min = 250\n",
        "\n",
        "# TODO: Set the value of the births_per_day variable\n",
        "births_per_day = hours_per_day * mins_per_hour * births_per_min\n",
        "\n",
        "# DO NOT REMOVE: Check your answer\n",
        "q4.check()"
      ],
      "metadata": {
        "execution": {
          "iopub.status.busy": "2024-05-21T06:16:38.581927Z",
          "iopub.execute_input": "2024-05-21T06:16:38.582342Z",
          "iopub.status.idle": "2024-05-21T06:16:38.592673Z",
          "shell.execute_reply.started": "2024-05-21T06:16:38.582303Z",
          "shell.execute_reply": "2024-05-21T06:16:38.591555Z"
        },
        "trusted": true,
        "id": "b9f9IZiazaZX"
      },
      "execution_count": null,
      "outputs": []
    },
    {
      "cell_type": "code",
      "source": [
        "# Uncomment to get a hint\n",
        "#q4.hint()\n",
        "\n",
        "# Uncomment to view solution\n",
        "#q4.solution()"
      ],
      "metadata": {
        "id": "oSsngxGhzaZY"
      },
      "execution_count": null,
      "outputs": []
    },
    {
      "cell_type": "code",
      "source": [
        "births_per_min = 250\n",
        "births_per_day = hours_per_day * mins_per_hour * births_per_min\n",
        "print(births_per_day)"
      ],
      "metadata": {
        "execution": {
          "iopub.status.busy": "2024-05-21T06:09:34.109825Z",
          "iopub.execute_input": "2024-05-21T06:09:34.110189Z",
          "iopub.status.idle": "2024-05-21T06:09:34.117169Z",
          "shell.execute_reply.started": "2024-05-21T06:09:34.11016Z",
          "shell.execute_reply": "2024-05-21T06:09:34.115607Z"
        },
        "trusted": true,
        "id": "6q8Fab5izaZY"
      },
      "execution_count": null,
      "outputs": []
    },
    {
      "cell_type": "markdown",
      "source": [
        "# 🌶️ Question 5\n",
        "\n",
        "(Questions marked with a 🌶️ will be a little bit more challenging than the others!  Remember you can always get a hint or view the solution.)\n",
        "\n",
        "The [Titanic competition](https://www.kaggle.com/c/titanic) is Kaggle's most famous data science competition. In this competition, participants are challenged to build a machine learning model that can predict whether or not passengers survived the Titanic shipwreck, based on information like age, sex, family size, and ticket number.\n",
        "\n",
        "Run the next code cell without changes to load and preview the titanic data.\n",
        "\n",
        "Don't worry about the details of the code for now - the end result is just that the all of the titanic data has been loaded in a variable named `titanic_data`.  (In order to learn how to write this code yourself, you can take the [Python course](https://www.kaggle.com/learn/python) and then the [Pandas course](https://www.kaggle.com/learn/pandas).)"
      ],
      "metadata": {
        "id": "Sqd7pXhHzaZY"
      }
    },
    {
      "cell_type": "code",
      "source": [
        "# Load the data from the titanic competition\n",
        "import pandas as pd\n",
        "titanic_data = pd.read_csv(\"../input/titanic/train.csv\")\n",
        "\n",
        "# Show the first five rows of the data\n",
        "titanic_data.head()"
      ],
      "metadata": {
        "execution": {
          "iopub.status.busy": "2024-05-21T06:11:14.610595Z",
          "iopub.execute_input": "2024-05-21T06:11:14.611007Z",
          "iopub.status.idle": "2024-05-21T06:11:15.170359Z",
          "shell.execute_reply.started": "2024-05-21T06:11:14.610977Z",
          "shell.execute_reply": "2024-05-21T06:11:15.169116Z"
        },
        "trusted": true,
        "id": "q7ln5rjkzaZY"
      },
      "execution_count": null,
      "outputs": []
    },
    {
      "cell_type": "markdown",
      "source": [
        "The data has a different row for each passenger.  \n",
        "\n",
        "The next code cell defines and prints the values of three variables:  \n",
        "- `total` = total number of passengers who boarded the ship\n",
        "- `survived` = number of passengers who survived the shipwreck\n",
        "- `minors` = number of passengers under 18 years of age\n",
        "\n",
        "Run the code cell without changes.  (Don't worry about the details of how these variables are calculated for now.  You can learn more about how to calculate these values in the [Pandas course](https://www.kaggle.com/learn/pandas).)"
      ],
      "metadata": {
        "id": "rJQzvxdyzaZZ"
      }
    },
    {
      "cell_type": "code",
      "source": [
        "# Number of total passengers\n",
        "total = len(titanic_data)\n",
        "print(total)\n",
        "\n",
        "# Number of passengers who survived\n",
        "survived = (titanic_data.Survived == 1).sum()\n",
        "print(survived)\n",
        "\n",
        "# Number of passengers under 18\n",
        "minors = (titanic_data.Age < 18).sum()\n",
        "print(minors)"
      ],
      "metadata": {
        "execution": {
          "iopub.status.busy": "2024-05-21T06:12:10.505291Z",
          "iopub.execute_input": "2024-05-21T06:12:10.505671Z",
          "iopub.status.idle": "2024-05-21T06:12:10.51512Z",
          "shell.execute_reply.started": "2024-05-21T06:12:10.505642Z",
          "shell.execute_reply": "2024-05-21T06:12:10.513772Z"
        },
        "trusted": true,
        "id": "4VvrAIRDzaZZ"
      },
      "execution_count": null,
      "outputs": []
    },
    {
      "cell_type": "markdown",
      "source": [
        "So,\n",
        "- `total = 891` (there were 891 passengers on board the Titanic),\n",
        "- `survived = 342` (342 passengers survived), and\n",
        "- `minors = 113` (113 passengers were under the age of 18).\n",
        "\n",
        "In the code cell below, replace the underlines (`____`) with code to calculate the values for two more variables:\n",
        "- `survived_fraction` should be set to the fraction of passengers who survived the Titanic disaster.\n",
        "- `minors_fraction` should be the fraction of passengers who were minors (under the age of 18).\n",
        "\n",
        "For each variable, your answer should be a number between 0 and 1.  \n",
        "\n",
        "If you need a hint or want to view the solution, you can skip to the next code cell and uncomment the appropriate lines of code (`q5.hint()` and `q5.solution()`)."
      ],
      "metadata": {
        "id": "JWr5_9I3zaZZ"
      }
    },
    {
      "cell_type": "code",
      "source": [
        "# TODO: Fill in the value of the survived_fraction variable\n",
        "survived_fraction = survived/total\n",
        "\n",
        "# Print the value of the variable\n",
        "print(survived_fraction)\n",
        "\n",
        "# TODO: Fill in the value of the minors_fraction variable\n",
        "minors_fraction = minors/total\n",
        "\n",
        "# Print the value of the variable\n",
        "print(minors_fraction)\n",
        "\n",
        "# DO NOT REMOVE: Check your answer\n",
        "q5.check()"
      ],
      "metadata": {
        "execution": {
          "iopub.status.busy": "2024-05-21T06:17:36.416227Z",
          "iopub.execute_input": "2024-05-21T06:17:36.416633Z",
          "iopub.status.idle": "2024-05-21T06:17:36.429082Z",
          "shell.execute_reply.started": "2024-05-21T06:17:36.416596Z",
          "shell.execute_reply": "2024-05-21T06:17:36.427947Z"
        },
        "trusted": true,
        "id": "-jId3PFZzaZZ"
      },
      "execution_count": null,
      "outputs": []
    },
    {
      "cell_type": "code",
      "source": [
        "# Uncomment to receive a hint\n",
        "q5.hint()\n",
        "\n",
        "# Uncomment to view the solution\n",
        "q5.solution()"
      ],
      "metadata": {
        "execution": {
          "iopub.status.busy": "2024-05-21T06:17:41.56303Z",
          "iopub.execute_input": "2024-05-21T06:17:41.563443Z",
          "iopub.status.idle": "2024-05-21T06:17:41.57818Z",
          "shell.execute_reply.started": "2024-05-21T06:17:41.56341Z",
          "shell.execute_reply": "2024-05-21T06:17:41.576982Z"
        },
        "trusted": true,
        "id": "RC4xKPQezaZZ"
      },
      "execution_count": null,
      "outputs": []
    },
    {
      "cell_type": "markdown",
      "source": [
        "# Bonus Exercise\n",
        "\n",
        "As an **optional** next step, you're encouraged to make a submission to the Titanic competition.  \n",
        "> To do this, follow the instructions in the **[notebook here](https://www.kaggle.com/alexisbcook/titanic-tutorial)**.  \n",
        "\n",
        "The notebook is beginner-friendly and does not assume you have any experience with coding.  At the same time, you'll learn how to author your own notebooks on Kaggle, and it gives you a great idea of what you'll be able to do if you continue to learn data science!\n",
        "\n",
        "# Keep going\n",
        "\n",
        "Congratulations!  You have just finished the first exercise in the Intro to Programming course!  \n",
        "\n",
        "You are now ready to learn how to **[organize your code with functions](https://www.kaggle.com/alexisbcook/functions)**."
      ],
      "metadata": {
        "id": "urL8aD3NzaZZ"
      }
    },
    {
      "cell_type": "markdown",
      "source": [
        "---\n",
        "\n",
        "\n",
        "\n",
        "\n",
        "*Have questions or comments? Visit the [course discussion forum](https://www.kaggle.com/learn/intro-to-programming/discussion) to chat with other learners.*"
      ],
      "metadata": {
        "id": "25YaetkhzaZZ"
      }
    }
  ]
}