{
  "metadata": {
    "kernelspec": {
      "display_name": "Python 3",
      "language": "python",
      "name": "python3"
    },
    "language_info": {
      "name": "python",
      "version": "3.10.13",
      "mimetype": "text/x-python",
      "codemirror_mode": {
        "name": "ipython",
        "version": 3
      },
      "pygments_lexer": "ipython3",
      "nbconvert_exporter": "python",
      "file_extension": ".py"
    },
    "learntools_metadata": {
      "lesson_index": 1,
      "type": "exercise"
    },
    "kaggle": {
      "accelerator": "none",
      "dataSources": [],
      "isInternetEnabled": false,
      "language": "python",
      "sourceType": "notebook",
      "isGpuEnabled": false
    },
    "colab": {
      "name": "Exercise: Functions and Getting Help",
      "provenance": []
    }
  },
  "nbformat_minor": 0,
  "nbformat": 4,
  "cells": [
    {
      "cell_type": "markdown",
      "source": [
        "**This notebook is an exercise in the [Python](https://www.kaggle.com/learn/python) course.  You can reference the tutorial at [this link](https://www.kaggle.com/colinmorris/functions-and-getting-help).**\n",
        "\n",
        "---\n"
      ],
      "metadata": {
        "id": "EfuDHrB08MO8"
      }
    },
    {
      "cell_type": "markdown",
      "source": [
        "Functions are powerful. Try writing some yourself.\n",
        "\n",
        "As before, don't forget to run the setup code below before jumping into question 1."
      ],
      "metadata": {
        "id": "KaaLho1X8MO-"
      }
    },
    {
      "cell_type": "code",
      "source": [
        "# SETUP. You don't need to worry for now about what this code does or how it works.\n",
        "from learntools.core import binder; binder.bind(globals())\n",
        "from learntools.python.ex2 import *\n",
        "print('Setup complete.')"
      ],
      "metadata": {
        "_kg_hide-input": true,
        "_kg_hide-output": true,
        "execution": {
          "iopub.status.busy": "2024-05-23T10:02:16.638429Z",
          "iopub.execute_input": "2024-05-23T10:02:16.63918Z",
          "iopub.status.idle": "2024-05-23T10:02:17.655516Z",
          "shell.execute_reply.started": "2024-05-23T10:02:16.639145Z",
          "shell.execute_reply": "2024-05-23T10:02:17.654287Z"
        },
        "trusted": true,
        "id": "ZSLzyrii8MO_",
        "outputId": "e7d8de3a-e157-4fbc-fdff-f62f5301e812"
      },
      "execution_count": null,
      "outputs": [
        {
          "name": "stdout",
          "text": "Setup complete.\n",
          "output_type": "stream"
        }
      ]
    },
    {
      "cell_type": "markdown",
      "source": [
        "# 1.\n",
        "\n",
        "Complete the body of the following function according to its docstring.\n",
        "\n",
        "HINT: Python has a built-in function `round`."
      ],
      "metadata": {
        "id": "vjoBbD7o8MPB"
      }
    },
    {
      "cell_type": "code",
      "source": [
        "def round_to_two_places(num):\n",
        "    \"\"\"Return the given number rounded to two decimal places.\n",
        "\n",
        "    >>> round_to_two_places(3.14159)\n",
        "    3.14\n",
        "    \"\"\"\n",
        "    # Replace this body with your own code.\n",
        "    # (\"pass\" is a keyword that does literally nothing. We used it as a placeholder\n",
        "    # because after we begin a code block, Python requires at least one line of code)\n",
        "    return round(num,2)\n",
        "\n",
        "# Check your answer\n",
        "q1.check()"
      ],
      "metadata": {
        "execution": {
          "iopub.status.busy": "2024-05-23T10:03:16.538716Z",
          "iopub.execute_input": "2024-05-23T10:03:16.539091Z",
          "iopub.status.idle": "2024-05-23T10:03:16.548823Z",
          "shell.execute_reply.started": "2024-05-23T10:03:16.539065Z",
          "shell.execute_reply": "2024-05-23T10:03:16.54769Z"
        },
        "trusted": true,
        "id": "uPrBj4p58MPB",
        "outputId": "819b9f7e-5dec-4892-b8e2-c09dbdc4c38d"
      },
      "execution_count": null,
      "outputs": [
        {
          "output_type": "display_data",
          "data": {
            "text/plain": "<IPython.core.display.Javascript object>",
            "application/javascript": "parent.postMessage({\"jupyterEvent\": \"custom.exercise_interaction\", \"data\": {\"outcomeType\": 1, \"valueTowardsCompletion\": 0.16666666666666666, \"interactionType\": 1, \"questionType\": 2, \"questionId\": \"1_RoundFunctionProblem\", \"learnToolsVersion\": \"0.3.4\", \"failureMessage\": \"\", \"exceptionClass\": \"\", \"trace\": \"\"}}, \"*\")"
          },
          "metadata": {}
        },
        {
          "output_type": "display_data",
          "data": {
            "text/plain": "Correct",
            "text/markdown": "<span style=\"color:#33cc33\">Correct</span>"
          },
          "metadata": {}
        }
      ]
    },
    {
      "cell_type": "code",
      "source": [
        "# Uncomment the following for a hint\n",
        "#q1.hint()\n",
        "# Or uncomment the following to peek at the solution\n",
        "q1.solution()"
      ],
      "metadata": {
        "execution": {
          "iopub.status.busy": "2024-05-23T10:03:21.631806Z",
          "iopub.execute_input": "2024-05-23T10:03:21.632485Z",
          "iopub.status.idle": "2024-05-23T10:03:21.640639Z",
          "shell.execute_reply.started": "2024-05-23T10:03:21.632452Z",
          "shell.execute_reply": "2024-05-23T10:03:21.639559Z"
        },
        "trusted": true,
        "id": "3r4GEiFr8MPC",
        "outputId": "b527b2f1-e409-4810-869b-8cd9914b472c"
      },
      "execution_count": null,
      "outputs": [
        {
          "output_type": "display_data",
          "data": {
            "text/plain": "<IPython.core.display.Javascript object>",
            "application/javascript": "parent.postMessage({\"jupyterEvent\": \"custom.exercise_interaction\", \"data\": {\"interactionType\": 3, \"questionType\": 2, \"questionId\": \"1_RoundFunctionProblem\", \"learnToolsVersion\": \"0.3.4\", \"valueTowardsCompletion\": 0.0, \"failureMessage\": \"\", \"exceptionClass\": \"\", \"trace\": \"\", \"outcomeType\": 4}}, \"*\")"
          },
          "metadata": {}
        },
        {
          "output_type": "display_data",
          "data": {
            "text/plain": "Solution: \n```python\nreturn round(num, 2)\n```",
            "text/markdown": "<span style=\"color:#33cc99\">Solution:</span> \n```python\nreturn round(num, 2)\n```"
          },
          "metadata": {}
        }
      ]
    },
    {
      "cell_type": "markdown",
      "source": [
        "# 2.\n",
        "The help for `round` says that `ndigits` (the second argument) may be negative.\n",
        "What do you think will happen when it is? Try some examples in the following cell."
      ],
      "metadata": {
        "id": "-PORcAtu8MPC"
      }
    },
    {
      "cell_type": "code",
      "source": [
        "# Put your test code here\n",
        "print(round(1234.2342,-1))"
      ],
      "metadata": {
        "execution": {
          "iopub.status.busy": "2024-05-23T10:06:26.83827Z",
          "iopub.execute_input": "2024-05-23T10:06:26.838637Z",
          "iopub.status.idle": "2024-05-23T10:06:26.843858Z",
          "shell.execute_reply.started": "2024-05-23T10:06:26.83861Z",
          "shell.execute_reply": "2024-05-23T10:06:26.843023Z"
        },
        "trusted": true,
        "id": "sinidg7U8MPC",
        "outputId": "e0a5833b-c3af-4d84-d5b9-b568e6199792"
      },
      "execution_count": null,
      "outputs": [
        {
          "name": "stdout",
          "text": "1230.0\n",
          "output_type": "stream"
        }
      ]
    },
    {
      "cell_type": "markdown",
      "source": [
        "Can you think of a case where this would be useful?  Once you're ready, run the code cell below to see the answer and to receive credit for completing the problem."
      ],
      "metadata": {
        "id": "WDwLdLOv8MPC"
      }
    },
    {
      "cell_type": "code",
      "source": [
        "# Check your answer (Run this code cell to receive credit!)\n",
        "q2.solution()"
      ],
      "metadata": {
        "execution": {
          "iopub.status.busy": "2024-05-23T10:04:08.777012Z",
          "iopub.execute_input": "2024-05-23T10:04:08.777788Z",
          "iopub.status.idle": "2024-05-23T10:04:08.786622Z",
          "shell.execute_reply.started": "2024-05-23T10:04:08.777749Z",
          "shell.execute_reply": "2024-05-23T10:04:08.785261Z"
        },
        "trusted": true,
        "id": "HTunXQOo8MPD",
        "outputId": "ea94b7e9-8688-4790-c54c-aefea93c2761"
      },
      "execution_count": null,
      "outputs": [
        {
          "output_type": "display_data",
          "data": {
            "text/plain": "<IPython.core.display.Javascript object>",
            "application/javascript": "parent.postMessage({\"jupyterEvent\": \"custom.exercise_interaction\", \"data\": {\"interactionType\": 3, \"questionType\": 4, \"questionId\": \"2_RoundNdigitsProblem\", \"learnToolsVersion\": \"0.3.4\", \"valueTowardsCompletion\": 0.0, \"failureMessage\": \"\", \"exceptionClass\": \"\", \"trace\": \"\", \"outcomeType\": 4}}, \"*\")"
          },
          "metadata": {}
        },
        {
          "output_type": "display_data",
          "data": {
            "text/plain": "Solution: As you've seen, `ndigits=-1` rounds to the nearest 10, `ndigits=-2` rounds to the nearest 100 and so on. Where might this be useful? Suppose we're dealing with large numbers:\n\n> The area of Finland is 338,424 km²  \n> The area of Greenland is 2,166,086 km²\n\nWe probably don't care whether it's really 338,424, or 338,425, or 338,177. All those digits of accuracy are just distracting. We can chop them off by calling `round()` with `ndigits=-3`:\n\n> The area of Finland is 338,000 km²  \n> The area of Greenland is 2,166,000 km²\n\n(We'll talk about how we would get the commas later when we talk about string formatting :))",
            "text/markdown": "<span style=\"color:#33cc99\">Solution:</span> As you've seen, `ndigits=-1` rounds to the nearest 10, `ndigits=-2` rounds to the nearest 100 and so on. Where might this be useful? Suppose we're dealing with large numbers:\n\n> The area of Finland is 338,424 km²  \n> The area of Greenland is 2,166,086 km²\n\nWe probably don't care whether it's really 338,424, or 338,425, or 338,177. All those digits of accuracy are just distracting. We can chop them off by calling `round()` with `ndigits=-3`:\n\n> The area of Finland is 338,000 km²  \n> The area of Greenland is 2,166,000 km²\n\n(We'll talk about how we would get the commas later when we talk about string formatting :))\n"
          },
          "metadata": {}
        }
      ]
    },
    {
      "cell_type": "markdown",
      "source": [
        "# 3.\n",
        "\n",
        "In the previous exercise, the candy-sharing friends Alice, Bob and Carol tried to split candies evenly. For the sake of their friendship, any candies left over would be smashed. For example, if they collectively bring home 91 candies, they'll take 30 each and smash 1.\n",
        "\n",
        "Below is a simple function that will calculate the number of candies to smash for *any* number of total candies.\n",
        "\n",
        "Modify it so that it optionally takes a second argument representing the number of friends the candies are being split between. If no second argument is provided, it should assume 3 friends, as before.\n",
        "\n",
        "Update the docstring to reflect this new behaviour."
      ],
      "metadata": {
        "id": "O6r8xOhz8MPD"
      }
    },
    {
      "cell_type": "code",
      "source": [
        "def to_smash(total_candies,friends=3):\n",
        "    \"\"\"Return the number of leftover candies that must be smashed after distributing\n",
        "    the given number of candies evenly between 3 friends.\n",
        "\n",
        "    >>> to_smash(91)\n",
        "    1\n",
        "    \"\"\"\n",
        "\n",
        "    return total_candies % friends\n",
        "\n",
        "# Check your answer\n",
        "q3.check()"
      ],
      "metadata": {
        "execution": {
          "iopub.status.busy": "2024-05-23T10:08:52.349092Z",
          "iopub.execute_input": "2024-05-23T10:08:52.349778Z",
          "iopub.status.idle": "2024-05-23T10:08:52.357626Z",
          "shell.execute_reply.started": "2024-05-23T10:08:52.349742Z",
          "shell.execute_reply": "2024-05-23T10:08:52.356779Z"
        },
        "trusted": true,
        "id": "66CsaSlY8MPD",
        "outputId": "ad01a4b6-e325-433b-e51f-a9cbb6a3ec99"
      },
      "execution_count": null,
      "outputs": [
        {
          "output_type": "display_data",
          "data": {
            "text/plain": "<IPython.core.display.Javascript object>",
            "application/javascript": "parent.postMessage({\"jupyterEvent\": \"custom.exercise_interaction\", \"data\": {\"outcomeType\": 1, \"valueTowardsCompletion\": 0.16666666666666666, \"interactionType\": 1, \"questionType\": 2, \"questionId\": \"3_CandySmashingFunctionProblem\", \"learnToolsVersion\": \"0.3.4\", \"failureMessage\": \"\", \"exceptionClass\": \"\", \"trace\": \"\"}}, \"*\")"
          },
          "metadata": {}
        },
        {
          "output_type": "display_data",
          "data": {
            "text/plain": "Correct",
            "text/markdown": "<span style=\"color:#33cc33\">Correct</span>"
          },
          "metadata": {}
        }
      ]
    },
    {
      "cell_type": "code",
      "source": [
        "q3.hint()"
      ],
      "metadata": {
        "execution": {
          "iopub.status.busy": "2024-05-23T10:07:38.626164Z",
          "iopub.execute_input": "2024-05-23T10:07:38.626603Z",
          "iopub.status.idle": "2024-05-23T10:07:38.635338Z",
          "shell.execute_reply.started": "2024-05-23T10:07:38.626566Z",
          "shell.execute_reply": "2024-05-23T10:07:38.634012Z"
        },
        "trusted": true,
        "id": "6sYXmg_D8MPE",
        "outputId": "83c0895c-bdbb-4eac-99a5-f9652e8e9e16"
      },
      "execution_count": null,
      "outputs": [
        {
          "output_type": "display_data",
          "data": {
            "text/plain": "<IPython.core.display.Javascript object>",
            "application/javascript": "parent.postMessage({\"jupyterEvent\": \"custom.exercise_interaction\", \"data\": {\"interactionType\": 2, \"questionType\": 2, \"questionId\": \"3_CandySmashingFunctionProblem\", \"learnToolsVersion\": \"0.3.4\", \"valueTowardsCompletion\": 0.0, \"failureMessage\": \"\", \"exceptionClass\": \"\", \"trace\": \"\", \"outcomeType\": 4}}, \"*\")"
          },
          "metadata": {}
        },
        {
          "output_type": "display_data",
          "data": {
            "text/plain": "Hint: Refer to the section of the last tutorial notebook where we talked about default arguments",
            "text/markdown": "<span style=\"color:#3366cc\">Hint:</span> Refer to the section of the last tutorial notebook where we talked about default arguments"
          },
          "metadata": {}
        }
      ]
    },
    {
      "cell_type": "code",
      "source": [
        "q3.solution()"
      ],
      "metadata": {
        "execution": {
          "iopub.status.busy": "2024-05-23T10:07:46.304939Z",
          "iopub.execute_input": "2024-05-23T10:07:46.30534Z",
          "iopub.status.idle": "2024-05-23T10:07:46.314389Z",
          "shell.execute_reply.started": "2024-05-23T10:07:46.305306Z",
          "shell.execute_reply": "2024-05-23T10:07:46.313159Z"
        },
        "trusted": true,
        "id": "hW16oWIg8MPE",
        "outputId": "4c771535-a34c-49ab-e7f4-f73fa6393e1d"
      },
      "execution_count": null,
      "outputs": [
        {
          "output_type": "display_data",
          "data": {
            "text/plain": "<IPython.core.display.Javascript object>",
            "application/javascript": "parent.postMessage({\"jupyterEvent\": \"custom.exercise_interaction\", \"data\": {\"interactionType\": 3, \"questionType\": 2, \"questionId\": \"3_CandySmashingFunctionProblem\", \"learnToolsVersion\": \"0.3.4\", \"valueTowardsCompletion\": 0.0, \"failureMessage\": \"\", \"exceptionClass\": \"\", \"trace\": \"\", \"outcomeType\": 4}}, \"*\")"
          },
          "metadata": {}
        },
        {
          "output_type": "display_data",
          "data": {
            "text/plain": "Solution: \n```python\ndef to_smash(total_candies, n_friends=3):\n    return total_candies % n_friends\n```",
            "text/markdown": "<span style=\"color:#33cc99\">Solution:</span> \n```python\ndef to_smash(total_candies, n_friends=3):\n    return total_candies % n_friends\n```"
          },
          "metadata": {}
        }
      ]
    },
    {
      "cell_type": "markdown",
      "source": [
        "# 4. (Optional)\n",
        "\n",
        "It may not be fun, but reading and understanding error messages will be an important part of your Python career.\n",
        "\n",
        "Each code cell below contains some commented buggy code. For each cell...\n",
        "\n",
        "1. Read the code and predict what you think will happen when it's run.\n",
        "2. Then uncomment the code and run it to see what happens. (**Tip**: In the kernel editor, you can highlight several lines and press `ctrl`+`/` to toggle commenting.)\n",
        "3. Fix the code (so that it accomplishes its intended purpose without throwing an exception)\n",
        "\n",
        "<!-- TODO: should this be autochecked? Delta is probably pretty small. -->"
      ],
      "metadata": {
        "id": "9sWToZoN8MPF"
      }
    },
    {
      "cell_type": "code",
      "source": [
        "# ruound_to_two_places(9.9999)"
      ],
      "metadata": {
        "id": "pog_6XUO8MPF"
      },
      "execution_count": null,
      "outputs": []
    },
    {
      "cell_type": "code",
      "source": [
        "x = -10\n",
        "y = 5\n",
        "# # Which of the two variables above has the smallest absolute value?\n",
        "x_1 = abs(x)\n",
        "y_1 = abs(y)\n",
        "smallest_abs = min(x_1,y_1)\n",
        "print(smallest_abs)"
      ],
      "metadata": {
        "execution": {
          "iopub.status.busy": "2024-05-23T10:12:36.594608Z",
          "iopub.execute_input": "2024-05-23T10:12:36.594984Z",
          "iopub.status.idle": "2024-05-23T10:12:36.600919Z",
          "shell.execute_reply.started": "2024-05-23T10:12:36.594953Z",
          "shell.execute_reply": "2024-05-23T10:12:36.599742Z"
        },
        "trusted": true,
        "id": "gnrEK_Xy8MPF",
        "outputId": "dec24995-365d-4b0d-a1ce-aa2ff60dc81a"
      },
      "execution_count": null,
      "outputs": [
        {
          "name": "stdout",
          "text": "5\n",
          "output_type": "stream"
        }
      ]
    },
    {
      "cell_type": "code",
      "source": [
        "def f(x):\n",
        "    y = abs(x)\n",
        "# return y\n",
        "\n",
        "# print(f(5))"
      ],
      "metadata": {
        "id": "AAJN8-5G8MPG"
      },
      "execution_count": null,
      "outputs": []
    },
    {
      "cell_type": "markdown",
      "source": [
        "# Keep Going\n",
        "\n",
        "Nice job with the code. Next up, you'll learn about *conditionals*, which you'll need to **[write interesting programs](https://www.kaggle.com/colinmorris/booleans-and-conditionals)**."
      ],
      "metadata": {
        "id": "l0wo3g0e8MPG"
      }
    },
    {
      "cell_type": "markdown",
      "source": [
        "---\n",
        "\n",
        "\n",
        "\n",
        "\n",
        "*Have questions or comments? Visit the [course discussion forum](https://www.kaggle.com/learn/python/discussion) to chat with other learners.*"
      ],
      "metadata": {
        "id": "E-Dja7Mo8MPH"
      }
    }
  ]
}